


import requests
import pandas as pd
import ast
import json


# Define the API keys, add them and delte them here when done so they don't get uploaded to the public git repo
"""
api_keys = {
    "edamam_app_id": "",
    "edamam_app_key": "",
    "gretel_api_key": ""
}

# Write the API keys to the config.json file
with open('config.json', 'w') as f:
    json.dump({"api_keys": api_keys}, f, indent=4)

"""


with open('config.json', 'r') as f:
    config_data = json.load(f)

# Access the API keys
api_keys = config_data['api_keys']

APP_ID = api_keys['edamam_app_id']
APP_KEY = api_keys['edamam_app_key']





def recipe_search(ingredient, from_index=0, to_index=10):
    if to_index > 100:
        raise ValueError("to_index must be 100 at maximum")
    
    app_id = APP_ID  # Replace with your Edamam API app ID
    app_key = APP_KEY  # Replace with your Edamam API app key
    result = requests.get(
        'https://api.edamam.com/search?q={}&app_id={}&app_key={}&from={}&to={}'.format(
            ingredient, app_id, app_key, from_index, to_index
        )
    )
    data = result.json()
    return data['hits']

def get_recipe_df(recipes):
    recipes_lst = [recipes[i]['recipe'] for i in range(len(recipes))]
    return pd.DataFrame(recipes_lst)


res = recipe_search('carrot', from_index=0, to_index=100)


res[0]['recipe'].keys()


len(res)


get_recipe_df(res).head(2)


get_recipe_df(res)['healthLabels'][50]





vegan_common_ingredients = [
    "Carrots",
    "Broccoli",
    "Spinach",
    "Kale",
    "Tomatoes",
    "Bell peppers",
    "Onions",
    "Garlic",
    "Mushrooms",
    "Zucchini",
    "Cauliflower",
    "Potatoes",
    "Sweet potatoes",
    "Green beans",
    "Peas",
    "Apples",
    "Bananas",
    "Oranges",
    "Berries",
    "Avocados",
    "Rice",
    "Quinoa",
    "Oats",
    "Beans",
    "Lentils",
    "Chickpeas",
    "Black beans",
    "Almonds",
    "Walnuts",
    "Cashews",
    "Peanuts",
    "Sunflower seeds",
    "Chia seeds",
    "Flaxseeds",
    "Soybeans",
    "Tofu",
    "Seitan",
    "Tempeh",
    "Whole wheat flour",
    "Whole grain bread",
    "Whole grain pasta",
    "Brown rice",
    "Coconut milk",
    "Almond milk",
    "Soy milk",
    "Olive oil",
    "Coconut oil",
    "Balsamic vinegar",
    "Maple syrup"
]

pescatarian_common_ingredients = [
    "Salmon",
    "Tuna",
    "Shrimp",
    "Cod",
    "Trout",
    "Sardines",
    "Mackerel",
    "Scallops",
    "Crab",
    "Lobster",
    "Oysters",
    "Clams",
    "Mussels",
    "Tilapia",
    "Halibut",
    "Haddock",
    "Mahi-mahi",
    "Swordfish",
    "Anchovies",
    "Seaweed",
    "Avocados",
    "Spinach",
    "Kale",
    "Tomatoes",
    "Bell peppers",
    "Onions",
    "Garlic",
    "Mushrooms",
    "Zucchini",
    "Cauliflower",
    "Potatoes",
    "Sweet potatoes",
    "Green beans",
    "Peas",
    "Apples",
    "Bananas",
    "Oranges",
    "Berries",
    "Rice",
    "Quinoa",
    "Oats",
    "Lentils",
    "Chickpeas",
    "Almonds",
    "Walnuts",
    "Cashews",
    "Peanuts",
    "Coconut milk",
    "Olive oil"
]

mediterranean_common_ingredients = [
    "Tomatoes",
    "Cucumbers",
    "Bell peppers",
    "Red onions",
    "Garlic",
    "Spinach",
    "Kale",
    "Lettuce",
    "Artichokes",
    "Eggplant",
    "Zucchini",
    "Cauliflower",
    "Broccoli",
    "Carrots",
    "Radishes",
    "Beets",
    "Chickpeas",
    "Lentils",
    "Quinoa",
    "Brown rice",
    "Whole wheat couscous",
    "Farro",
    "Bulgur",
    "Olive oil",
    "Olives",
    "Feta cheese",
    "Greek yogurt",
    "Hummus",
    "Tahini",
    "Almonds",
    "Walnuts",
    "Pistachios",
    "Hazelnuts",
    "Sunflower seeds",
    "Flaxseeds",
    "Chia seeds",
    "Salmon",
    "Tuna",
    "Mackerel",
    "Sardines",
    "Anchovies",
    "Shrimp",
    "Mussels",
    "Clams",
    "Swordfish",
    "Chicken",
    "Turkey",
    "Eggs",
    "Red wine"
]

paleo_common_ingredients = [
    "Beef",
    "Chicken",
    "Turkey",
    "Pork",
    "Lamb",
    "Bison",
    "Venison",
    "Salmon",
    "Tuna",
    "Trout",
    "Cod",
    "Shrimp",
    "Scallops",
    "Crab",
    "Lobster",
    "Oysters",
    "Clams",
    "Mussels",
    "Eggs",
    "Bacon",
    "Avocados",
    "Spinach",
    "Kale",
    "Lettuce",
    "Broccoli",
    "Cauliflower",
    "Brussels sprouts",
    "Zucchini",
    "Carrots",
    "Onions",
    "Garlic",
    "Mushrooms",
    "Tomatoes",
    "Bell peppers",
    "Sweet potatoes",
    "Butternut squash",
    "Acorn squash",
    "Pumpkin",
    "Blueberries",
    "Strawberries",
    "Raspberries",
    "Blackberries",
    "Almonds",
    "Walnuts",
    "Cashews",
    "Pecans",
    "Macadamia nuts",
    "Coconut",
    "Coconut oil",
    "Olive oil"
]

vegetarian_common_ingredients = [
    "Spinach",
    "Kale",
    "Lettuce",
    "Broccoli",
    "Cauliflower",
    "Zucchini",
    "Carrots",
    "Bell peppers",
    "Onions",
    "Garlic",
    "Mushrooms",
    "Tomatoes",
    "Cucumbers",
    "Eggplant",
    "Potatoes",
    "Sweet potatoes",
    "Beets",
    "Radishes",
    "Green beans",
    "Peas",
    "Avocados",
    "Bananas",
    "Apples",
    "Oranges",
    "Berries",
    "Grapes",
    "Lemons",
    "Limes",
    "Cherries",
    "Mangoes",
    "Pineapple",
    "Watermelon",
    "Whole wheat bread",
    "Whole wheat pasta",
    "Brown rice",
    "Quinoa",
    "Oats",
    "Lentils",
    "Chickpeas",
    "Black beans",
    "Kidney beans",
    "Tofu",
    "Tempeh",
    "Seitan",
    "Almonds",
    "Walnuts",
    "Cashews",
    "Peanuts",
    "Chia seeds",
    "Flaxseeds"
]

meat_common_ingredients = [
    "Beef",
    "Chicken",
    "Pork",
    "Lamb",
    "Turkey",
    "Venison",
    "Bison",
    "Duck",
    "Quail",
    "Rabbit",
    "Salmon",
    "Tuna",
    "Trout",
    "Cod",
    "Halibut",
    "Swordfish",
    "Shrimp",
    "Scallops",
    "Crab",
    "Lobster",
    "Oysters",
    "Clams",
    "Mussels",
    "Bacon",
    "Sausages",
    "Ham",
    "Pepperoni",
    "Prosciutto",
    "Liver",
    "Kidneys",
    "Heart",
    "Tongue",
    "Tripe",
    "Eggs",
    "Milk",
    "Cheese",
    "Yogurt",
    "Butter",
    "Beef broth",
    "Chicken broth",
    "Fish broth",
    "Lard",
    "Tallow",
    "Duck fat",
    "Goose fat",
    "Pork rinds",
    "Bone marrow",
    "Bone broth",
    "Gelatin"
]

# add all these lists and use a set to get only unique elements
common_ingredients = vegan_common_ingredients + pescatarian_common_ingredients + mediterranean_common_ingredients + vegetarian_common_ingredients + meat_common_ingredients
common_ingredients = list(set(common_ingredients))

print("We have {} common ingrediants to query".format(len(common_ingredients)))





query1 = recipe_search(common_ingredients[0])
query2 = recipe_search(common_ingredients[1])


pd.concat([get_recipe_df(query1), get_recipe_df(query2)], ignore_index=True).shape


import time
def combine_recipe_data(ingredient_list, from_index=0, to_index=10):
    all_recipes = []
    
    # Iterate over each ingredient in the list
    for i in range(len(ingredient_list)):        
        ingredient = ingredient_list[i]
        
        # Make API request for recipes
        recipes = recipe_search(ingredient, from_index, to_index)
        
        # Convert the list of recipes to a dataframe
        ingredient_df = get_recipe_df(recipes)
        
        # Append the dataframe to the list of all recipes
        all_recipes.append(ingredient_df)

        # Wait for 6 seconds between requests to adhere to rate limit, i.e. 1 request per second
        time.sleep(6)
    
    # Combine all dataframes into one dataframe
    combined_df = pd.concat(all_recipes, ignore_index=True)
    
    return combined_df


testdf = combine_recipe_data(common_ingredients[0:12], from_index=0, to_index=100)


testdf.info()


testdf.to_csv('example_recipes.csv', index=False)





example_df = pd.read_csv('example_recipes.csv')
example_df.head(2)


example_df.columns


example_df[example_df.duplicated()]





example_df[example_df['label'].duplicated()]


example_df[example_df['label'] == 'Pimento Cheese']





cleaned_example_df = example_df.drop_duplicates(subset = ['label'])





cleaned_example_df['tags'][0]





cleaned_example_df['dietLabels']


cleaned_example_df['dietLabels'][0]


#we have a few columns with list elements and we want to see the unqiue values so this function can do that
def get_unique_values(df, column):
    df.loc[df[column].isna(), column] = '[]'
    labels_lst = []
    for label in df[column].apply(ast.literal_eval):
        labels_lst += label
    return set(labels_lst)

#this checks to see what recipes are multilabeled for the given column
def check_if_multilabel(df, column):
    lst = []
    for row in df[column].apply(ast.literal_eval):
        if len(row) > 1:
            lst.append(row)
    return lst


get_unique_values(cleaned_example_df, 'dietLabels')


len(check_if_multilabel(cleaned_example_df, 'dietLabels'))








print(get_unique_values(cleaned_example_df, 'cuisineType'))


check_if_multilabel(cleaned_example_df, 'cuisineType')








print(get_unique_values(cleaned_example_df, 'mealType'))


check_if_multilabel(cleaned_example_df, 'mealType')








print(get_unique_values(cleaned_example_df, 'dishType'))


check_if_multilabel(cleaned_example_df, 'dishType')








print(get_unique_values(cleaned_example_df, 'healthLabels'))


len(check_if_multilabel(cleaned_example_df, 'healthLabels'))


cleaned_example_df.shape






