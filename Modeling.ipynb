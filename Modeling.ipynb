{
 "cells": [
  {
   "cell_type": "markdown",
   "id": "f959da6a-8b95-4246-b31f-e6de97aa57de",
   "metadata": {},
   "source": [
    "# Building a Vegan Likelihood Model\n",
    "\n",
    "The goal is to build a model to either predict if a dish is vegan just from the recipe name, or create a scoring model to predict how likely or easily a recipe is or could be vegan.\n",
    "\n",
    "Or rather, we can take the cosine similarity with a user input for a recipe name and out list of recipes from out database, and then use the top score to get the list of ingredients. Then our model can predict how likely the recipe would be vegan. Could just also list out potentially ingredients that would likely show up as non-vegan in this recipe to watch out for.\n",
    "\n",
    "## EDA and Pre-processing"
   ]
  },
  {
   "cell_type": "code",
   "execution_count": 9,
   "id": "7edb738a-2166-4cd7-8b6d-5631c30f035e",
   "metadata": {},
   "outputs": [],
   "source": [
    "import pandas as pd\n",
    "import ast"
   ]
  },
  {
   "cell_type": "code",
   "execution_count": 4,
   "id": "6c42503f-16cb-49ce-b3c3-2515826ad577",
   "metadata": {},
   "outputs": [],
   "source": [
    "df = pd.read_csv('example_recipes.csv')"
   ]
  },
  {
   "cell_type": "code",
   "execution_count": 5,
   "id": "3b720add-c477-4217-8d9d-97e5110cf0d3",
   "metadata": {},
   "outputs": [
    {
     "data": {
      "text/plain": [
       "Index(['uri', 'label', 'image', 'source', 'url', 'shareAs', 'yield',\n",
       "       'dietLabels', 'healthLabels', 'cautions', 'ingredientLines',\n",
       "       'ingredients', 'calories', 'totalWeight', 'totalTime', 'cuisineType',\n",
       "       'mealType', 'dishType', 'totalNutrients', 'totalDaily', 'digest',\n",
       "       'tags'],\n",
       "      dtype='object')"
      ]
     },
     "execution_count": 5,
     "metadata": {},
     "output_type": "execute_result"
    }
   ],
   "source": [
    "df.columns"
   ]
  },
  {
   "cell_type": "code",
   "execution_count": 13,
   "id": "cefd959d-c5dc-4709-943f-0e53cbb038f6",
   "metadata": {},
   "outputs": [],
   "source": [
    "ingredients_col = df['ingredients'].apply(ast.literal_eval)"
   ]
  },
  {
   "cell_type": "code",
   "execution_count": 21,
   "id": "b043d24c-6050-4f02-8fb2-3f4e64fb081a",
   "metadata": {},
   "outputs": [
    {
     "data": {
      "text/plain": [
       "{'text': '375g/13oz plain flour',\n",
       " 'quantity': 375.0,\n",
       " 'measure': 'gram',\n",
       " 'food': 'flour',\n",
       " 'weight': 375.0,\n",
       " 'foodCategory': 'grains',\n",
       " 'foodId': 'food_ahebfs0a985an4aubqaebbipra58',\n",
       " 'image': 'https://www.edamam.com/food-img/b4c/b4c739e76a6f2172b7ad49d0aa41d5aa.jpg'}"
      ]
     },
     "execution_count": 21,
     "metadata": {},
     "output_type": "execute_result"
    }
   ],
   "source": [
    "ingredients_col[1][0]"
   ]
  },
  {
   "cell_type": "code",
   "execution_count": 50,
   "id": "a78756df-82f6-4fe2-8067-f931b312e4bf",
   "metadata": {},
   "outputs": [
    {
     "data": {
      "text/plain": [
       "dict_keys([])"
      ]
     },
     "execution_count": 50,
     "metadata": {},
     "output_type": "execute_result"
    }
   ],
   "source": [
    "dct = dict()\n",
    "dct.keys()"
   ]
  },
  {
   "cell_type": "code",
   "execution_count": 25,
   "id": "44482a36-b494-4773-8084-78836899cf46",
   "metadata": {},
   "outputs": [],
   "source": [
    "#ingredients_col[1][0]['foodCategory']\n",
    "dct[ingredients_col[1][0]['foodCategory']] = ingredients_col[1][0]['quantity']"
   ]
  },
  {
   "cell_type": "code",
   "execution_count": 51,
   "id": "c034e23b-b270-411b-91ab-cc0455e59d5b",
   "metadata": {},
   "outputs": [],
   "source": [
    "dct = dict()\n",
    "for i, row in ingredients_col.items():\n",
    "    for j in range(len(row)):\n",
    "        key = row[j]['foodCategory']\n",
    "        value = row[j]['quantity']\n",
    "\n",
    "        if key in dct.keys():\n",
    "            dct[key] += value\n",
    "        else:\n",
    "            dct[key] = value"
   ]
  },
  {
   "cell_type": "code",
   "execution_count": 49,
   "id": "a9fc5a72-a771-40f2-a02f-364f20122004",
   "metadata": {},
   "outputs": [
    {
     "data": {
      "text/plain": [
       "True"
      ]
     },
     "execution_count": 49,
     "metadata": {},
     "output_type": "execute_result"
    }
   ],
   "source": [
    "'text' in ingredients_col[0][0]"
   ]
  },
  {
   "cell_type": "code",
   "execution_count": 53,
   "id": "fad943c9-378f-42b0-9689-76d03095326d",
   "metadata": {},
   "outputs": [
    {
     "data": {
      "text/plain": [
       "dict_keys(['Eggs', 'Milk', 'Cheese', 'Dairy', 'grains', 'Condiments and sauces', 'condiments and sauces', 'Oils', 'vegetables', 'canned vegetables', 'milk', 'bread, rolls and tortillas', 'cured meats', 'fruit', 'canned grains', 'canned soup', 'bov', 'plant-based protein', 'sugars', 'quick breads and pastries', 'wines', '100% juice', 'water', 'yogurt', 'beer', 'ready-to-eat cereals', 'sugar syrups', 'Cured meats', 'crackers', 'savory snacks', 'liquors and cocktails', 'meats', 'sugar jam', 'Vegan products', 'candy', 'chocolate', None, 'canned fruit', 'non-dairy beverages', 'flavored water', 'cocktails and liquors', 'canned seafood', 'seafood', 'Poultry', 'sweetened beverages', 'pastries', 'frozen treats', 'coffee and tea', 'eggs', 'cooked grains', 'Plant-based protein', 'frozen grained based', 'mixed grains', 'sandwhiches', 'protein and nutritional powders', 'salads'])"
      ]
     },
     "execution_count": 53,
     "metadata": {},
     "output_type": "execute_result"
    }
   ],
   "source": [
    "dct.keys()"
   ]
  },
  {
   "cell_type": "code",
   "execution_count": null,
   "id": "7c26829e-9dd6-4c08-bd3d-2937eface087",
   "metadata": {},
   "outputs": [],
   "source": []
  }
 ],
 "metadata": {
  "kernelspec": {
   "display_name": "Python 3 (ipykernel)",
   "language": "python",
   "name": "python3"
  },
  "language_info": {
   "codemirror_mode": {
    "name": "ipython",
    "version": 3
   },
   "file_extension": ".py",
   "mimetype": "text/x-python",
   "name": "python",
   "nbconvert_exporter": "python",
   "pygments_lexer": "ipython3",
   "version": "3.11.7"
  }
 },
 "nbformat": 4,
 "nbformat_minor": 5
}
