{
 "cells": [
  {
   "cell_type": "markdown",
   "id": "f959da6a-8b95-4246-b31f-e6de97aa57de",
   "metadata": {},
   "source": [
    "# Building a Vegan Likelihood Model\n",
    "\n",
    "The goal is to build a model to either predict if a dish is vegan just from the recipe name, or create a scoring model to predict how likely or easily a recipe is or could be vegan.\n",
    "\n",
    "Or rather, we can take the cosine similarity with a user input for a recipe name and out list of recipes from out database, and then use the top score to get the list of ingredients. Then our model can predict how likely the recipe would be vegan. Could just also list out potentially ingredients that would likely show up as non-vegan in this recipe to watch out for.\n",
    "\n",
    "## EDA and Pre-processing"
   ]
  },
  {
   "cell_type": "code",
   "execution_count": 1,
   "id": "7edb738a-2166-4cd7-8b6d-5631c30f035e",
   "metadata": {},
   "outputs": [
    {
     "name": "stderr",
     "output_type": "stream",
     "text": [
      "C:\\Users\\RaviB\\AppData\\Local\\Temp\\ipykernel_31220\\4135976894.py:1: DeprecationWarning: \n",
      "Pyarrow will become a required dependency of pandas in the next major release of pandas (pandas 3.0),\n",
      "(to allow more performant data types, such as the Arrow string type, and better interoperability with other libraries)\n",
      "but was not found to be installed on your system.\n",
      "If this would cause problems for you,\n",
      "please provide us feedback at https://github.com/pandas-dev/pandas/issues/54466\n",
      "        \n",
      "  import pandas as pd\n"
     ]
    }
   ],
   "source": [
    "import pandas as pd\n",
    "import ast"
   ]
  },
  {
   "cell_type": "code",
   "execution_count": 2,
   "id": "6c42503f-16cb-49ce-b3c3-2515826ad577",
   "metadata": {},
   "outputs": [],
   "source": [
    "df = pd.read_csv('example_recipes.csv')"
   ]
  },
  {
   "cell_type": "code",
   "execution_count": 3,
   "id": "3b720add-c477-4217-8d9d-97e5110cf0d3",
   "metadata": {},
   "outputs": [
    {
     "data": {
      "text/plain": [
       "Index(['uri', 'label', 'image', 'source', 'url', 'shareAs', 'yield',\n",
       "       'dietLabels', 'healthLabels', 'cautions', 'ingredientLines',\n",
       "       'ingredients', 'calories', 'totalWeight', 'totalTime', 'cuisineType',\n",
       "       'mealType', 'dishType', 'totalNutrients', 'totalDaily', 'digest',\n",
       "       'tags'],\n",
       "      dtype='object')"
      ]
     },
     "execution_count": 3,
     "metadata": {},
     "output_type": "execute_result"
    }
   ],
   "source": [
    "df.columns"
   ]
  },
  {
   "cell_type": "code",
   "execution_count": 4,
   "id": "cefd959d-c5dc-4709-943f-0e53cbb038f6",
   "metadata": {},
   "outputs": [],
   "source": [
    "ingredients_col = df['ingredients'].apply(ast.literal_eval)"
   ]
  },
  {
   "cell_type": "code",
   "execution_count": 5,
   "id": "b043d24c-6050-4f02-8fb2-3f4e64fb081a",
   "metadata": {},
   "outputs": [
    {
     "data": {
      "text/plain": [
       "{'text': '375g/13oz plain flour',\n",
       " 'quantity': 375.0,\n",
       " 'measure': 'gram',\n",
       " 'food': 'flour',\n",
       " 'weight': 375.0,\n",
       " 'foodCategory': 'grains',\n",
       " 'foodId': 'food_ahebfs0a985an4aubqaebbipra58',\n",
       " 'image': 'https://www.edamam.com/food-img/b4c/b4c739e76a6f2172b7ad49d0aa41d5aa.jpg'}"
      ]
     },
     "execution_count": 5,
     "metadata": {},
     "output_type": "execute_result"
    }
   ],
   "source": [
    "ingredients_col[1][0]"
   ]
  },
  {
   "cell_type": "code",
   "execution_count": 6,
   "id": "a78756df-82f6-4fe2-8067-f931b312e4bf",
   "metadata": {},
   "outputs": [
    {
     "data": {
      "text/plain": [
       "dict_keys([])"
      ]
     },
     "execution_count": 6,
     "metadata": {},
     "output_type": "execute_result"
    }
   ],
   "source": [
    "dct = dict()\n",
    "dct.keys()"
   ]
  },
  {
   "cell_type": "code",
   "execution_count": 7,
   "id": "44482a36-b494-4773-8084-78836899cf46",
   "metadata": {},
   "outputs": [],
   "source": [
    "#ingredients_col[1][0]['foodCategory']\n",
    "dct[ingredients_col[1][0]['foodCategory']] = ingredients_col[1][0]['quantity']"
   ]
  },
  {
   "cell_type": "code",
   "execution_count": 8,
   "id": "c034e23b-b270-411b-91ab-cc0455e59d5b",
   "metadata": {},
   "outputs": [],
   "source": [
    "dct = dict()\n",
    "for i, row in ingredients_col.items():\n",
    "    for j in range(len(row)):\n",
    "        key = row[j]['foodCategory']\n",
    "        value = row[j]['quantity']\n",
    "\n",
    "        if key in dct.keys():\n",
    "            dct[key] += value\n",
    "        else:\n",
    "            dct[key] = value"
   ]
  },
  {
   "cell_type": "code",
   "execution_count": 9,
   "id": "a9fc5a72-a771-40f2-a02f-364f20122004",
   "metadata": {},
   "outputs": [
    {
     "data": {
      "text/plain": [
       "True"
      ]
     },
     "execution_count": 9,
     "metadata": {},
     "output_type": "execute_result"
    }
   ],
   "source": [
    "'text' in ingredients_col[0][0]"
   ]
  },
  {
   "cell_type": "code",
   "execution_count": 10,
   "id": "fad943c9-378f-42b0-9689-76d03095326d",
   "metadata": {},
   "outputs": [
    {
     "data": {
      "text/plain": [
       "dict_keys(['Eggs', 'Milk', 'Cheese', 'Dairy', 'grains', 'Condiments and sauces', 'condiments and sauces', 'Oils', 'vegetables', 'canned vegetables', 'milk', 'bread, rolls and tortillas', 'cured meats', 'fruit', 'canned grains', 'canned soup', 'bov', 'plant-based protein', 'sugars', 'quick breads and pastries', 'wines', '100% juice', 'water', 'yogurt', 'beer', 'ready-to-eat cereals', 'sugar syrups', 'Cured meats', 'crackers', 'savory snacks', 'liquors and cocktails', 'meats', 'sugar jam', 'Vegan products', 'candy', 'chocolate', None, 'canned fruit', 'non-dairy beverages', 'flavored water', 'cocktails and liquors', 'canned seafood', 'seafood', 'Poultry', 'sweetened beverages', 'pastries', 'frozen treats', 'coffee and tea', 'eggs', 'cooked grains', 'Plant-based protein', 'frozen grained based', 'mixed grains', 'sandwhiches', 'protein and nutritional powders', 'salads'])"
      ]
     },
     "execution_count": 10,
     "metadata": {},
     "output_type": "execute_result"
    }
   ],
   "source": [
    "dct.keys()"
   ]
  },
  {
   "cell_type": "code",
   "execution_count": 47,
   "id": "7c26829e-9dd6-4c08-bd3d-2937eface087",
   "metadata": {},
   "outputs": [
    {
     "data": {
      "text/plain": [
       "'1 organic large egg, 1 teaspoon whole milk or water, 1 tablespoon cheddar cheese, shredded (you can use other types of cheese), 1 teaspoon butter or oil, '"
      ]
     },
     "execution_count": 47,
     "metadata": {},
     "output_type": "execute_result"
    }
   ],
   "source": [
    "ex_s = ''\n",
    "ex_s_lst = ast.literal_eval(df.iloc[0]['ingredientLines'])\n",
    "for s in ex_s_lst:\n",
    "    ex_s += s + ', '\n",
    "\n",
    "ex_s"
   ]
  },
  {
   "cell_type": "code",
   "execution_count": 55,
   "id": "2f3a37ec-a80a-4275-9465-7c2ca754aa48",
   "metadata": {},
   "outputs": [
    {
     "data": {
      "text/plain": [
       "'1 organic large egg, 1 teaspoon whole milk or water, 1 tablespoon cheddar cheese, shredded (you can use other types of cheese), 1 teaspoon butter or oil'"
      ]
     },
     "execution_count": 55,
     "metadata": {},
     "output_type": "execute_result"
    }
   ],
   "source": [
    "', '.join(ex_s_lst)"
   ]
  },
  {
   "cell_type": "code",
   "execution_count": null,
   "id": "ffc99227-97c1-4425-89ab-e835457f358f",
   "metadata": {},
   "outputs": [],
   "source": []
  },
  {
   "cell_type": "code",
   "execution_count": null,
   "id": "6b177d98-79f5-469b-b69a-1b7d09974a71",
   "metadata": {},
   "outputs": [],
   "source": []
  },
  {
   "cell_type": "markdown",
   "id": "28a2f5e2-44d1-4bc5-8c18-1d45acf3b535",
   "metadata": {},
   "source": [
    "## Preprocessing for Transformer\n",
    "\n",
    "Going to try to preprocess data to take the dish/recipe name (`label` column) and the `healthLabel` as input, and output the ingredients list as a long string. We can use a transformer for this to output the recipe's ingredients in long text form. \n",
    "\n",
    "The `healthLabel` will only be a select few options though, and the user can only select 1 for now, from: ['Mediterranean', 'Vegetarian', 'Vegan', 'Red-Meat-Free', 'Paleo', 'Pescatarian']. When reducing the healthLabels column from multilabel to categorical, we need to define a priority order, and if none of these are there then the dish is balanced, so we will add that as an option. In the future, some analysis on this column should be done to improve the priority order, rather than relying on domain knowledge. Alternatively, and option to select multiple could be implemented instead."
   ]
  },
  {
   "cell_type": "code",
   "execution_count": 74,
   "id": "f9c6f09a-f93f-4da7-8221-749d8bbafb74",
   "metadata": {},
   "outputs": [],
   "source": [
    "priority_order = ['Vegan', 'Vegetarian', 'Pescatarian', 'Paleo', 'Red-Meat-Free', 'Mediterranean']"
   ]
  },
  {
   "cell_type": "code",
   "execution_count": 87,
   "id": "58cce8a8-8151-4c94-aafd-227a9a869137",
   "metadata": {},
   "outputs": [
    {
     "data": {
      "text/plain": [
       "0       [Sugar-Conscious, Low Potassium, Kidney-Friend...\n",
       "1       [Sugar-Conscious, Low Potassium, Kidney-Friend...\n",
       "2       [Sugar-Conscious, Low Potassium, Kidney-Friend...\n",
       "3       [Sugar-Conscious, Low Potassium, Kidney-Friend...\n",
       "4       [Vegetarian, Pescatarian, Egg-Free, Peanut-Fre...\n",
       "                              ...                        \n",
       "1195    [Keto-Friendly, Pescatarian, Mediterranean, Gl...\n",
       "1196    [Pescatarian, Gluten-Free, Wheat-Free, Egg-Fre...\n",
       "1197    [Sugar-Conscious, Keto-Friendly, Pescatarian, ...\n",
       "1198    [Sugar-Conscious, Keto-Friendly, Pescatarian, ...\n",
       "1199    [Sugar-Conscious, Pescatarian, Mediterranean, ...\n",
       "Name: healthLabels, Length: 1200, dtype: object"
      ]
     },
     "execution_count": 87,
     "metadata": {},
     "output_type": "execute_result"
    }
   ],
   "source": [
    "health_labels = df['healthLabels'].apply(ast.literal_eval)\n",
    "health_labels"
   ]
  },
  {
   "cell_type": "code",
   "execution_count": 88,
   "id": "5e874203-9b73-452c-8ca8-3486f89194a2",
   "metadata": {},
   "outputs": [],
   "source": [
    "def replace_with_priority(labels):\n",
    "    for label in priority_order:\n",
    "        if label in labels:\n",
    "            return label\n",
    "    return 'Balanced'  # Handle case where no label matches priority_order, in which case the diet is balanced\n",
    "\n",
    "# Apply function to the multilabels series\n",
    "diet_type = health_labels.apply(replace_with_priority)"
   ]
  },
  {
   "cell_type": "code",
   "execution_count": 89,
   "id": "6fa78ee3-5e60-4ac1-bccb-18652857abc7",
   "metadata": {},
   "outputs": [
    {
     "data": {
      "text/plain": [
       "healthLabels\n",
       "Vegetarian       400\n",
       "Vegan            279\n",
       "Pescatarian      209\n",
       "Balanced         181\n",
       "Red-Meat-Free     57\n",
       "Paleo             42\n",
       "Mediterranean     32\n",
       "Name: count, dtype: int64"
      ]
     },
     "execution_count": 89,
     "metadata": {},
     "output_type": "execute_result"
    }
   ],
   "source": [
    "diet_type.value_counts()"
   ]
  },
  {
   "cell_type": "markdown",
   "id": "0068e884-2b21-45a4-98b9-7273114f9141",
   "metadata": {},
   "source": [
    "Now we have our dietary preference column. The recipe name is fine as is so next is the ingredients list which is our target variable."
   ]
  },
  {
   "cell_type": "code",
   "execution_count": 90,
   "id": "0cea2701-1126-46b3-b274-b649de8b9d32",
   "metadata": {},
   "outputs": [],
   "source": [
    "recipe_name = df['label']"
   ]
  },
  {
   "cell_type": "markdown",
   "id": "eec883fa-1abb-43b8-bec6-e58d3b694e2e",
   "metadata": {},
   "source": [
    "We need to just join these lists of strings with commas so they be user friendly to read. "
   ]
  },
  {
   "cell_type": "code",
   "execution_count": 91,
   "id": "63f43efe-cf87-4441-a004-7bc40cf2401a",
   "metadata": {},
   "outputs": [
    {
     "data": {
      "text/plain": [
       "0       1 organic large egg, 1 teaspoon whole milk or ...\n",
       "1       375g/13oz plain flour, Pinch salt, 225g/8oz bu...\n",
       "2       1 cup asiago cheese, grated, 1 cup fontina che...\n",
       "3       4 ounces, weight Cream Cheese, Softened, 1/2 c...\n",
       "4       8 ounces elbow pasta, 1/4 cup unsalted butter,...\n",
       "                              ...                        \n",
       "1195    4 (6 ounce) tilapia fillets, salt, pepper, 1/2...\n",
       "1196    * 1 Vegetable oil cooking spray, * 4 U.S.-farm...\n",
       "1197    2 tbsp chopped red onion, 1 tbsp olive oil, 1 ...\n",
       "1198    3 tablespoons unsalted butter, 2 tablespoons e...\n",
       "1199    * 2 tilapia fillets (skinless, about 4 ounces ...\n",
       "Name: ingredientLines, Length: 1200, dtype: object"
      ]
     },
     "execution_count": 91,
     "metadata": {},
     "output_type": "execute_result"
    }
   ],
   "source": [
    "ingredients_lst = df['ingredientLines'].apply(ast.literal_eval)\n",
    "ingredients_lst = ingredients_lst.apply(lambda x: ', '.join(x))\n",
    "ingredients_lst"
   ]
  },
  {
   "cell_type": "markdown",
   "id": "3f83e4d7-0b6d-4067-80db-90a4beb405dc",
   "metadata": {},
   "source": [
    "Now we can make our dataframe for the modeling."
   ]
  },
  {
   "cell_type": "code",
   "execution_count": 95,
   "id": "2d95c300-2ddf-405b-bdc3-6202a792e31e",
   "metadata": {},
   "outputs": [
    {
     "data": {
      "text/html": [
       "<div>\n",
       "<style scoped>\n",
       "    .dataframe tbody tr th:only-of-type {\n",
       "        vertical-align: middle;\n",
       "    }\n",
       "\n",
       "    .dataframe tbody tr th {\n",
       "        vertical-align: top;\n",
       "    }\n",
       "\n",
       "    .dataframe thead th {\n",
       "        text-align: right;\n",
       "    }\n",
       "</style>\n",
       "<table border=\"1\" class=\"dataframe\">\n",
       "  <thead>\n",
       "    <tr style=\"text-align: right;\">\n",
       "      <th></th>\n",
       "      <th>dietType</th>\n",
       "      <th>recipeName</th>\n",
       "      <th>ingredientsList</th>\n",
       "    </tr>\n",
       "  </thead>\n",
       "  <tbody>\n",
       "    <tr>\n",
       "      <th>0</th>\n",
       "      <td>Vegetarian</td>\n",
       "      <td>Cheese Omelette</td>\n",
       "      <td>1 organic large egg, 1 teaspoon whole milk or ...</td>\n",
       "    </tr>\n",
       "    <tr>\n",
       "      <th>1</th>\n",
       "      <td>Vegetarian</td>\n",
       "      <td>Cheese straws</td>\n",
       "      <td>375g/13oz plain flour, Pinch salt, 225g/8oz bu...</td>\n",
       "    </tr>\n",
       "    <tr>\n",
       "      <th>2</th>\n",
       "      <td>Vegetarian</td>\n",
       "      <td>CHEESE GOOP</td>\n",
       "      <td>1 cup asiago cheese, grated, 1 cup fontina che...</td>\n",
       "    </tr>\n",
       "    <tr>\n",
       "      <th>3</th>\n",
       "      <td>Vegetarian</td>\n",
       "      <td>Pimento Cheese</td>\n",
       "      <td>4 ounces, weight Cream Cheese, Softened, 1/2 c...</td>\n",
       "    </tr>\n",
       "    <tr>\n",
       "      <th>4</th>\n",
       "      <td>Vegetarian</td>\n",
       "      <td>Five Cheese Skillet Mac and Cheese recipes</td>\n",
       "      <td>8 ounces elbow pasta, 1/4 cup unsalted butter,...</td>\n",
       "    </tr>\n",
       "  </tbody>\n",
       "</table>\n",
       "</div>"
      ],
      "text/plain": [
       "     dietType                                  recipeName  \\\n",
       "0  Vegetarian                             Cheese Omelette   \n",
       "1  Vegetarian                               Cheese straws   \n",
       "2  Vegetarian                                 CHEESE GOOP   \n",
       "3  Vegetarian                              Pimento Cheese   \n",
       "4  Vegetarian  Five Cheese Skillet Mac and Cheese recipes   \n",
       "\n",
       "                                     ingredientsList  \n",
       "0  1 organic large egg, 1 teaspoon whole milk or ...  \n",
       "1  375g/13oz plain flour, Pinch salt, 225g/8oz bu...  \n",
       "2  1 cup asiago cheese, grated, 1 cup fontina che...  \n",
       "3  4 ounces, weight Cream Cheese, Softened, 1/2 c...  \n",
       "4  8 ounces elbow pasta, 1/4 cup unsalted butter,...  "
      ]
     },
     "execution_count": 95,
     "metadata": {},
     "output_type": "execute_result"
    }
   ],
   "source": [
    "df2 = pd.concat([diet_type, recipe_name, ingredients_lst], axis = 1)\n",
    "column_names = {'healthLabels': 'dietType', 'label': 'recipeName', 'ingredientLines': 'ingredientsList'}\n",
    "df2 = df2.rename(columns=column_names)\n",
    "df2.head()"
   ]
  },
  {
   "cell_type": "markdown",
   "id": "9bce3170-0a84-48b4-bf52-70340f609b74",
   "metadata": {},
   "source": [
    "## Modeling"
   ]
  },
  {
   "cell_type": "markdown",
   "id": "cfa471d8-e24d-41a3-ad6b-65c7d7c3f79c",
   "metadata": {},
   "source": [
    "https://colab.research.google.com/github/gretelai/gretel-blueprints/blob/main/docs/notebooks/conditional_text_generation_with_gpt.ipynb#scrollTo=YMg9nX6SczHe\n",
    "\n",
    "https://gretel.ai/blog/conditional-text-generation-by-fine-tuning-gretel-gpt"
   ]
  },
  {
   "cell_type": "code",
   "execution_count": 113,
   "id": "928468ec-d9bb-46ac-a0f9-85639fb2d9ab",
   "metadata": {},
   "outputs": [
    {
     "name": "stdout",
     "output_type": "stream",
     "text": [
      "Transformers version: 4.37.2\n",
      "Torch version: 2.2.0+cu118\n"
     ]
    }
   ],
   "source": [
    "import transformers\n",
    "import torch\n",
    "print(\"Transformers version:\", transformers.__version__)\n",
    "print(\"Torch version:\", torch.__version__)\n",
    "\n",
    "from transformers import GPT2Tokenizer, GPT2LMHeadModel\n",
    "from sklearn.model_selection import train_test_split"
   ]
  },
  {
   "cell_type": "code",
   "execution_count": 102,
   "id": "c8dbe509-d5c6-48f3-af0e-862bc0a612ef",
   "metadata": {},
   "outputs": [
    {
     "data": {
      "application/vnd.jupyter.widget-view+json": {
       "model_id": "4b16e78928534e5f8e1f9d9d146ce56d",
       "version_major": 2,
       "version_minor": 0
      },
      "text/plain": [
       "vocab.json:   0%|          | 0.00/1.04M [00:00<?, ?B/s]"
      ]
     },
     "metadata": {},
     "output_type": "display_data"
    },
    {
     "name": "stderr",
     "output_type": "stream",
     "text": [
      "C:\\Users\\RaviB\\anaconda3\\envs\\edamam\\Lib\\site-packages\\huggingface_hub\\file_download.py:149: UserWarning: `huggingface_hub` cache-system uses symlinks by default to efficiently store duplicated files but your machine does not support them in C:\\Users\\RaviB\\.cache\\huggingface\\hub\\models--gpt2. Caching files will still work but in a degraded version that might require more space on your disk. This warning can be disabled by setting the `HF_HUB_DISABLE_SYMLINKS_WARNING` environment variable. For more details, see https://huggingface.co/docs/huggingface_hub/how-to-cache#limitations.\n",
      "To support symlinks on Windows, you either need to activate Developer Mode or to run Python as an administrator. In order to see activate developer mode, see this article: https://docs.microsoft.com/en-us/windows/apps/get-started/enable-your-device-for-development\n",
      "  warnings.warn(message)\n"
     ]
    },
    {
     "data": {
      "application/vnd.jupyter.widget-view+json": {
       "model_id": "58cffd32ca4a40ac802bea7576252122",
       "version_major": 2,
       "version_minor": 0
      },
      "text/plain": [
       "merges.txt:   0%|          | 0.00/456k [00:00<?, ?B/s]"
      ]
     },
     "metadata": {},
     "output_type": "display_data"
    },
    {
     "data": {
      "application/vnd.jupyter.widget-view+json": {
       "model_id": "17874e1d09444f989bbe06d1dbab8a51",
       "version_major": 2,
       "version_minor": 0
      },
      "text/plain": [
       "tokenizer.json:   0%|          | 0.00/1.36M [00:00<?, ?B/s]"
      ]
     },
     "metadata": {},
     "output_type": "display_data"
    },
    {
     "data": {
      "application/vnd.jupyter.widget-view+json": {
       "model_id": "6c565c9821a342fb8fcc729145178c03",
       "version_major": 2,
       "version_minor": 0
      },
      "text/plain": [
       "config.json:   0%|          | 0.00/665 [00:00<?, ?B/s]"
      ]
     },
     "metadata": {},
     "output_type": "display_data"
    }
   ],
   "source": [
    "tokenizer = GPT2Tokenizer.from_pretrained(\"gpt2\")"
   ]
  },
  {
   "cell_type": "code",
   "execution_count": 122,
   "id": "f184fc54-864e-4a79-810f-98075b651cc7",
   "metadata": {},
   "outputs": [],
   "source": [
    "input_feature = (df2['dietType'] + \" \" + df2['recipeName']).tolist()\n",
    "output_feature = df2['ingredientsList'].tolist()\n",
    "\n",
    "encoded_inputs = tokenizer(input_feature, output_feature)"
   ]
  },
  {
   "cell_type": "code",
   "execution_count": null,
   "id": "129de829-0755-4d81-a851-be979949bd9d",
   "metadata": {},
   "outputs": [],
   "source": [
    "# Define the transformer model architecture\n",
    "model = GPT2LMHeadModel.from_pretrained(\"gpt2\")\n",
    "\n",
    "# Split the dataset into train, validation, and test sets\n",
    "train_inputs, test_inputs, train_labels, test_labels = train_test_split(encoded_inputs['input_ids'], encoded_inputs['labels'], test_size=0.2, random_state=42)\n",
    "train_inputs, val_inputs, train_labels, val_labels = train_test_split(train_inputs, train_labels, test_size=0.2, random_state=42)\n",
    "\n",
    "# Fine-tune the model\n",
    "optimizer = torch.optim.AdamW(model.parameters(), lr=5e-5)\n",
    "device = torch.device(\"cuda\" if torch.cuda.is_available() else \"cpu\")\n",
    "model.to(device)\n",
    "\n",
    "for epoch in range(num_epochs):\n",
    "    model.train()\n",
    "    # Training loop\n",
    "\n",
    "# Evaluation on validation set\n",
    "model.eval()\n",
    "# Evaluation loop\n",
    "\n",
    "# Evaluation on test set\n",
    "model.eval()\n",
    "# Test loop\n",
    "\n",
    "# Inference on new data\n",
    "new_diet_type = \"Vegetarian\"\n",
    "new_recipe_name = \"Your new recipe name\"\n",
    "new_input = tokenizer(new_recipe_name, new_diet_type, return_tensors='pt', padding=True, truncation=True)\n",
    "predicted_output = model.generate(new_input['input_ids'], max_length=100, num_return_sequences=1)\n",
    "\n",
    "decoded_output = tokenizer.decode(predicted_output[0], skip_special_tokens=True)\n",
    "print(\"Predicted ingredients:\", decoded_output)"
   ]
  }
 ],
 "metadata": {
  "kernelspec": {
   "display_name": "Python 3 (ipykernel)",
   "language": "python",
   "name": "python3"
  },
  "language_info": {
   "codemirror_mode": {
    "name": "ipython",
    "version": 3
   },
   "file_extension": ".py",
   "mimetype": "text/x-python",
   "name": "python",
   "nbconvert_exporter": "python",
   "pygments_lexer": "ipython3",
   "version": "3.11.7"
  }
 },
 "nbformat": 4,
 "nbformat_minor": 5
}
