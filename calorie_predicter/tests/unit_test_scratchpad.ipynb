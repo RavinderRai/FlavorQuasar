{
 "cells": [
  {
   "cell_type": "code",
   "execution_count": 3,
   "id": "2a4bba06-7aa9-4fc6-94e2-ae33b7e782f0",
   "metadata": {},
   "outputs": [],
   "source": [
    "# test_my_module.py\n",
    "import sys\n",
    "import os\n",
    "import pandas as pd\n",
    "sys.path.append(os.path.abspath(os.path.join(os.getcwd(), \"..\")))  # Add the parent directory to the Python path\n",
    "#sys.path.insert(0, basedir)\n",
    "from data_processing import get_target_variable, preprocess_dish_type, preprocess_meal_type, get_training_testing_data, pre_process_text\n",
    "from utils import one_hot_encode\n",
    "from nltk.tokenize import word_tokenize\n",
    "from nltk.corpus import stopwords\n",
    "from nltk.stem import WordNetLemmatizer"
   ]
  },
  {
   "cell_type": "code",
   "execution_count": 4,
   "id": "fd1ba757-c4b7-42c0-bc45-3817b6906f16",
   "metadata": {},
   "outputs": [],
   "source": [
    "def sample_data(df, target='calories', sample_size=3, to_csv=False):\n",
    "    \"\"\"\n",
    "    Samples a subset of the DataFrame based on floored values of the target column.\n",
    "\n",
    "    Parameters:\n",
    "        df (DataFrame): Input DataFrame containing recipe data.\n",
    "        target (str): Name of the target column to floor values on. Default is 'calories'.\n",
    "        sample_size (int): Number of samples to select for each floored value. Default is 3.\n",
    "        to_csv (bool): If True, saves the sampled DataFrame to 'sample_recipes.csv'. Else returns sample_df. \n",
    "    Returns:\n",
    "        DataFrame or None: Sampled subset of the DataFrame if `to_csv` is False, None otherwise.\n",
    "    \"\"\"\n",
    "    floored_calories = df[target].apply(lambda x: x // 100 * 100).rename('floored_calories')\n",
    "    df_floored_calories = pd.concat([df, floored_calories], axis=1)\n",
    "    sample_df = df_floored_calories.groupby('floored_calories', group_keys=False).head(sample_size)\n",
    "    sample_df = sample_df.drop('floored_calories', axis=1)\n",
    "\n",
    "    if to_csv:\n",
    "        sample_df.to_csv('sample_recipes.csv', index=False)\n",
    "    else:\n",
    "        return sample_df\n",
    "\n",
    "raw_df = pd.read_csv('../../recipes.csv')\n",
    "sample_data(raw_df, to_csv=True)"
   ]
  },
  {
   "cell_type": "code",
   "execution_count": 13,
   "id": "4fa0486a-572c-4350-a316-7e5a0f44e060",
   "metadata": {},
   "outputs": [
    {
     "data": {
      "text/plain": [
       "(401, 22)"
      ]
     },
     "execution_count": 13,
     "metadata": {},
     "output_type": "execute_result"
    }
   ],
   "source": [
    "df = pd.read_csv('sample_recipes.csv')\n",
    "df.shape"
   ]
  },
  {
   "cell_type": "code",
   "execution_count": 14,
   "id": "83a9e7c1-19e3-4668-8788-f2774952b91f",
   "metadata": {},
   "outputs": [
    {
     "data": {
      "text/plain": [
       "(365, 23)"
      ]
     },
     "execution_count": 14,
     "metadata": {},
     "output_type": "execute_result"
    }
   ],
   "source": [
    "pre_proc_df = get_target_variable(df)\n",
    "pre_proc_df.shape"
   ]
  },
  {
   "cell_type": "code",
   "execution_count": 15,
   "id": "0b8af4a6-c708-4ec9-bef6-31d207b97906",
   "metadata": {},
   "outputs": [
    {
     "data": {
      "text/plain": [
       "(359, 25)"
      ]
     },
     "execution_count": 15,
     "metadata": {},
     "output_type": "execute_result"
    }
   ],
   "source": [
    "pre_proc_df, _, _ = preprocess_dish_type(pre_proc_df)\n",
    "pre_proc_df.shape"
   ]
  },
  {
   "cell_type": "code",
   "execution_count": 16,
   "id": "53c36738-edcc-471e-bb35-7a2e4e629b9c",
   "metadata": {},
   "outputs": [
    {
     "data": {
      "text/plain": [
       "(359, 26)"
      ]
     },
     "execution_count": 16,
     "metadata": {},
     "output_type": "execute_result"
    }
   ],
   "source": [
    "pre_proc_df = preprocess_meal_type(pre_proc_df)\n",
    "pre_proc_df.shape"
   ]
  },
  {
   "cell_type": "code",
   "execution_count": 17,
   "id": "edacf12f-79ca-4385-971f-42bdf03029b2",
   "metadata": {},
   "outputs": [
    {
     "data": {
      "text/plain": [
       "(359, 29)"
      ]
     },
     "execution_count": 17,
     "metadata": {},
     "output_type": "execute_result"
    }
   ],
   "source": [
    "onehot_encoded_df, onehot_encoder = one_hot_encode(pre_proc_df, 'mealTypeRefined')\n",
    "pre_proc_df = pd.concat([pre_proc_df, onehot_encoded_df], axis=1)\n",
    "pre_proc_df.shape"
   ]
  },
  {
   "cell_type": "code",
   "execution_count": 18,
   "id": "0b7468c5-e0cd-465c-ae8b-45ac157845a4",
   "metadata": {},
   "outputs": [],
   "source": [
    "english_stop_words = stopwords.words('english')\n",
    "lemmatizer = WordNetLemmatizer()\n",
    "pre_proc_df = pre_process_text(df=pre_proc_df, \n",
    "                                            column='label', \n",
    "                                            stop_words=english_stop_words, \n",
    "                                            lemmatizer=lemmatizer, \n",
    "                                            tokenizer=word_tokenize)"
   ]
  },
  {
   "cell_type": "code",
   "execution_count": 19,
   "id": "882d93be-160d-4cd8-ad3a-1abc5c29d87d",
   "metadata": {},
   "outputs": [
    {
     "data": {
      "text/plain": [
       "(359, 29)"
      ]
     },
     "execution_count": 19,
     "metadata": {},
     "output_type": "execute_result"
    }
   ],
   "source": [
    "pre_proc_df.shape"
   ]
  },
  {
   "cell_type": "code",
   "execution_count": 20,
   "id": "1271b9aa-d9f3-4cb1-af3f-e2f4ba5b1a97",
   "metadata": {},
   "outputs": [],
   "source": [
    "pre_proc_df['dishTypeSkewedLabels'] = pre_proc_df['dishTypeSkewedLabels'].astype(int)\n",
    "pre_proc_df['calorieLabels'] = pre_proc_df['binnedCalories'].astype(int)"
   ]
  },
  {
   "cell_type": "code",
   "execution_count": 21,
   "id": "f86f119d-d145-4ec7-b513-1cb33c0999e2",
   "metadata": {},
   "outputs": [],
   "source": [
    "X_cols = ['mealTypeRefined_breakfast', 'mealTypeRefined_lunch/dinner', 'mealTypeRefined_snack', 'label', 'dishTypeSkewedLabels']\n",
    "y_col = 'binnedCalories'\n",
    "X_train, X_test, y_train, y_test, _ = get_training_testing_data(pre_proc_df, X_cols, y_col)"
   ]
  },
  {
   "cell_type": "code",
   "execution_count": 22,
   "id": "d0077f41-a495-4933-88eb-60676a44c64d",
   "metadata": {},
   "outputs": [
    {
     "name": "stdout",
     "output_type": "stream",
     "text": [
      "(287, 463)\n",
      "(72, 463)\n",
      "(287,)\n",
      "(72,)\n"
     ]
    }
   ],
   "source": [
    "print(X_train.shape)\n",
    "print(X_test.shape)\n",
    "print(y_train.shape)\n",
    "print(y_test.shape)"
   ]
  },
  {
   "cell_type": "code",
   "execution_count": null,
   "id": "1e7c2ed6-40aa-4228-b51c-f76d10ddd50c",
   "metadata": {},
   "outputs": [],
   "source": []
  },
  {
   "cell_type": "code",
   "execution_count": 25,
   "id": "6659f8d0-d460-4024-b9e6-386ff5d01caf",
   "metadata": {},
   "outputs": [],
   "source": [
    "import predict"
   ]
  },
  {
   "cell_type": "code",
   "execution_count": 28,
   "id": "58c458bc-1011-42a9-8eb7-eba05e9182a2",
   "metadata": {},
   "outputs": [
    {
     "data": {
      "text/plain": [
       "{0: '0-299', 1: '300-599', 2: '600-899', 3: '900-1199'}"
      ]
     },
     "execution_count": 28,
     "metadata": {},
     "output_type": "execute_result"
    }
   ],
   "source": [
    "predict.post_process(3)"
   ]
  },
  {
   "cell_type": "code",
   "execution_count": null,
   "id": "b7424460-26ea-4e60-a11d-517df3062cc1",
   "metadata": {},
   "outputs": [],
   "source": []
  }
 ],
 "metadata": {
  "kernelspec": {
   "display_name": "Python 3 (ipykernel)",
   "language": "python",
   "name": "python3"
  },
  "language_info": {
   "codemirror_mode": {
    "name": "ipython",
    "version": 3
   },
   "file_extension": ".py",
   "mimetype": "text/x-python",
   "name": "python",
   "nbconvert_exporter": "python",
   "pygments_lexer": "ipython3",
   "version": "3.11.7"
  }
 },
 "nbformat": 4,
 "nbformat_minor": 5
}
