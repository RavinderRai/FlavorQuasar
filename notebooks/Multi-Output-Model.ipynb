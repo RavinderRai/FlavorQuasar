{
 "cells": [
  {
   "cell_type": "markdown",
   "metadata": {},
   "source": [
    "# Building a Multi-Output Model to Predict Macronutrient Profile\n",
    "\n",
    "In this notebook we are going to improve on the current model to predict calores, and instead we will predict all 3 macronutrients. Here is how it will work:\n",
    "\n",
    "- The user will input a recipe name.\n",
    "- Then a list of suggested ingredients will appear, and the user can optionally edit this by either adding/subtracting ingredients or modifying quantities\n",
    "    - This will be obtained for now by just running the cosine similarity with the recipe names in the data, and taking the ingredients from the top 5 or so results.\n",
    "    - Quantities may be ignored if model can't handle numeric inputs, but LLMs can if going that route.\n",
    "    - Being able to edit this could be a paid feature, i.e. changing quantities or adding/subtracting ingredients.\n",
    "- The model will then take as input, the recipe name concatenated with the ingredients list. Perhaps with quantities as well if using an LLM.\n",
    "    - Consider adding dietery type/preference here as well.\n",
    "- Finally, a multi-output regression model will be used to predict the macronutrients, and we can take ratios by dividing each macro by the total calorie count. The aim here is that during training, the model will learn to optimize its parameters to minimize the error between the predicted and ground truth ratios derived from the normalized macronutrient values."
   ]
  },
  {
   "cell_type": "code",
   "execution_count": 1,
   "metadata": {},
   "outputs": [
    {
     "name": "stdout",
     "output_type": "stream",
     "text": [
      "pandas: 2.2.0\n"
     ]
    }
   ],
   "source": [
    "#keeping all imports at the top\n",
    "import pandas as pd\n",
    "import ast\n",
    "\n",
    "for module_name in ['pandas',]:\n",
    "    module = __import__(module_name)\n",
    "    print(f\"{module_name}: {module.__version__}\")"
   ]
  },
  {
   "cell_type": "markdown",
   "metadata": {},
   "source": [
    "## EDA and Preprocessing"
   ]
  },
  {
   "cell_type": "code",
   "execution_count": 2,
   "metadata": {},
   "outputs": [
    {
     "data": {
      "text/plain": [
       "Index(['uri', 'label', 'image', 'source', 'url', 'shareAs', 'yield',\n",
       "       'dietLabels', 'healthLabels', 'cautions', 'ingredientLines',\n",
       "       'ingredients', 'calories', 'totalWeight', 'totalTime', 'cuisineType',\n",
       "       'mealType', 'dishType', 'totalNutrients', 'totalDaily', 'digest',\n",
       "       'tags'],\n",
       "      dtype='object')"
      ]
     },
     "execution_count": 2,
     "metadata": {},
     "output_type": "execute_result"
    }
   ],
   "source": [
    "df = pd.read_csv('../recipes.csv')\n",
    "df.columns"
   ]
  },
  {
   "cell_type": "code",
   "execution_count": 17,
   "metadata": {},
   "outputs": [
    {
     "data": {
      "text/plain": [
       "0        ['1 pound green beans, trimmed', '1 tablespoon...\n",
       "1        ['1 1/2 lb green beans, stem ends trimmed', '1...\n",
       "2        ['1 stick (8 tbsp.) unsalted, cultured butter'...\n",
       "3        ['2 teaspoons walnut oil', '1 pound green bean...\n",
       "4        ['1 pound green beans, trimmed', '2 teaspoons ...\n",
       "                               ...                        \n",
       "13267    ['* 2tablespoons olive oil', '* 1 large red be...\n",
       "13268    ['Two 6-ounce cans white meat tuna packed in w...\n",
       "13269    ['16 ounces low-sodium chunk light tuna, drain...\n",
       "13270    ['1 can (3 ounces) tuna, drained', '1 tablespo...\n",
       "13271    ['1 can (3 ounces) chunk light tuna in water, ...\n",
       "Name: ingredientLines, Length: 13272, dtype: object"
      ]
     },
     "execution_count": 17,
     "metadata": {},
     "output_type": "execute_result"
    }
   ],
   "source": [
    "df['ingredientLines']"
   ]
  },
  {
   "cell_type": "markdown",
   "metadata": {},
   "source": [
    "Note the ingredientLines column is all we need if we concatenate ingredients with the recipe name, but since we want to adjust the ingredients and quantity for the input, we will need to get the information from the ingredients column manually instead."
   ]
  },
  {
   "cell_type": "code",
   "execution_count": 3,
   "metadata": {},
   "outputs": [],
   "source": [
    "ingredients_col = df['ingredients'].apply(ast.literal_eval)"
   ]
  },
  {
   "cell_type": "code",
   "execution_count": 4,
   "metadata": {},
   "outputs": [
    {
     "data": {
      "text/plain": [
       "[{'text': '1 pound green beans, trimmed',\n",
       "  'quantity': 1.0,\n",
       "  'measure': 'pound',\n",
       "  'food': 'green beans',\n",
       "  'weight': 453.59237,\n",
       "  'foodCategory': 'vegetables',\n",
       "  'foodId': 'food_aceucvpau4a8v6atkx5eabxyoqdn',\n",
       "  'image': 'https://www.edamam.com/food-img/891/89135f10639878a2360e6a33c9af3d91.jpg'},\n",
       " {'text': '1 tablespoon butter, (optional)',\n",
       "  'quantity': 1.0,\n",
       "  'measure': 'tablespoon',\n",
       "  'food': 'butter',\n",
       "  'weight': 14.2,\n",
       "  'foodCategory': 'Dairy',\n",
       "  'foodId': 'food_awz3iefajbk1fwahq9logahmgltj',\n",
       "  'image': 'https://www.edamam.com/food-img/713/71397239b670d88c04faa8d05035cab4.jpg'},\n",
       " {'text': 'Coarse salt and ground pepper',\n",
       "  'quantity': 0.0,\n",
       "  'measure': None,\n",
       "  'food': 'Coarse salt',\n",
       "  'weight': 2.80675422,\n",
       "  'foodCategory': 'Condiments and sauces',\n",
       "  'foodId': 'food_a1vgrj1bs8rd1majvmd9ubz8ttkg',\n",
       "  'image': 'https://www.edamam.com/food-img/694/6943ea510918c6025795e8dc6e6eaaeb.jpg'},\n",
       " {'text': 'Coarse salt and ground pepper',\n",
       "  'quantity': 0.0,\n",
       "  'measure': None,\n",
       "  'food': 'ground pepper',\n",
       "  'weight': 1.40337711,\n",
       "  'foodCategory': 'Condiments and sauces',\n",
       "  'foodId': 'food_b6ywzluaaxv02wad7s1r9ag4py89',\n",
       "  'image': 'https://www.edamam.com/food-img/c6e/c6e5c3bd8d3bc15175d9766971a4d1b2.jpg'}]"
      ]
     },
     "execution_count": 4,
     "metadata": {},
     "output_type": "execute_result"
    }
   ],
   "source": [
    "ingredients_col[0]"
   ]
  },
  {
   "cell_type": "code",
   "execution_count": 5,
   "metadata": {},
   "outputs": [],
   "source": [
    "def get_ingredient_aspect(row, aspect):\n",
    "    lst = []\n",
    "    for j in range(len(row)):\n",
    "        lst.append(row[j][aspect])\n",
    "    return lst\n",
    "\n",
    "food_ingredients = ingredients_col.apply(lambda row: get_ingredient_aspect(row, 'food'))\n",
    "quantity_ingredients = ingredients_col.apply(lambda row: get_ingredient_aspect(row, 'quantity'))\n",
    "measure_ingredients = ingredients_col.apply(lambda row: get_ingredient_aspect(row, 'measure')) # will need this to understand quantity"
   ]
  },
  {
   "cell_type": "markdown",
   "metadata": {},
   "source": [
    "The `healthLabel` is the dietary type/preference like vegan, pescaterian, etc. We will only select few options though as it is a multilabel column, and the user can only select 1 for now, from: ['Mediterranean', 'Vegetarian', 'Vegan', 'Red-Meat-Free', 'Paleo', 'Pescatarian']. When reducing the healthLabels column from multilabel to categorical, we need to define a priority order, and if none of these are there then the dish is balanced, so we will add that as an option. In the future, some analysis on this column should be done to improve the priority order, rather than relying on domain knowledge. Alternatively, and option to select multiple could be implemented instead."
   ]
  },
  {
   "cell_type": "code",
   "execution_count": 6,
   "metadata": {},
   "outputs": [],
   "source": [
    "health_labels = df['healthLabels'].apply(ast.literal_eval)"
   ]
  },
  {
   "cell_type": "markdown",
   "metadata": {},
   "source": [
    "Let's take a look at all unique values of health labels. If we had more data it might be worth it to just keep all of these health labels. "
   ]
  },
  {
   "cell_type": "code",
   "execution_count": 7,
   "metadata": {},
   "outputs": [
    {
     "name": "stdout",
     "output_type": "stream",
     "text": [
      "{'Mustard-Free', 'Low Potassium', 'DASH', 'Red-Meat-Free', 'Mollusk-Free', 'Kosher', 'Immuno-Supportive', 'Vegetarian', 'Shellfish-Free', 'Gluten-Free', 'Soy-Free', 'Sulfite-Free', 'Sugar-Conscious', 'Pork-Free', 'Kidney-Friendly', 'Low Sugar', 'Tree-Nut-Free', 'Wheat-Free', 'Celery-Free', 'Lupine-Free', 'Alcohol-Cocktail', 'Paleo', 'Mediterranean', 'Crustacean-Free', 'Dairy-Free', 'Alcohol-Free', 'Vegan', 'No oil added', 'Fish-Free', 'Peanut-Free', 'Keto-Friendly', 'Egg-Free', 'Sesame-Free', 'FODMAP-Free', 'Pescatarian'}\n"
     ]
    }
   ],
   "source": [
    "unique_health_labels = []\n",
    "for lst in health_labels:\n",
    "    for health in lst:\n",
    "        unique_health_labels.append(health)\n",
    "\n",
    "print(set(unique_health_labels))\n"
   ]
  },
  {
   "cell_type": "code",
   "execution_count": 8,
   "metadata": {},
   "outputs": [],
   "source": [
    "priority_order = ['Vegan', 'Vegetarian', 'Pescatarian', 'Paleo', 'Red-Meat-Free', 'Mediterranean']"
   ]
  },
  {
   "cell_type": "code",
   "execution_count": 9,
   "metadata": {},
   "outputs": [],
   "source": [
    "def replace_with_priority(labels):\n",
    "    for label in priority_order:\n",
    "        if label in labels:\n",
    "            return label\n",
    "    return 'Balanced'  # Handle case where no label matches priority_order, in which case the diet is balanced\n",
    "\n",
    "# Apply function to the multilabels series\n",
    "priority_health_labels = health_labels.apply(replace_with_priority)"
   ]
  },
  {
   "cell_type": "markdown",
   "metadata": {},
   "source": [
    "### Target Variable\n",
    "\n",
    "Now let's get the macros and calories can be calcualted from that."
   ]
  },
  {
   "cell_type": "code",
   "execution_count": 10,
   "metadata": {},
   "outputs": [
    {
     "data": {
      "text/plain": [
       "Index(['uri', 'label', 'image', 'source', 'url', 'shareAs', 'yield',\n",
       "       'dietLabels', 'healthLabels', 'cautions', 'ingredientLines',\n",
       "       'ingredients', 'calories', 'totalWeight', 'totalTime', 'cuisineType',\n",
       "       'mealType', 'dishType', 'totalNutrients', 'totalDaily', 'digest',\n",
       "       'tags'],\n",
       "      dtype='object')"
      ]
     },
     "execution_count": 10,
     "metadata": {},
     "output_type": "execute_result"
    }
   ],
   "source": [
    "df.columns"
   ]
  },
  {
   "cell_type": "code",
   "execution_count": 11,
   "metadata": {},
   "outputs": [],
   "source": [
    "nutrients = df['totalNutrients'].apply(ast.literal_eval)"
   ]
  },
  {
   "cell_type": "code",
   "execution_count": 12,
   "metadata": {},
   "outputs": [
    {
     "data": {
      "text/plain": [
       "dict_keys(['ENERC_KCAL', 'FAT', 'FASAT', 'FATRN', 'FAMS', 'FAPU', 'CHOCDF', 'CHOCDF.net', 'FIBTG', 'SUGAR', 'PROCNT', 'CHOLE', 'NA', 'CA', 'MG', 'K', 'FE', 'ZN', 'P', 'VITA_RAE', 'VITC', 'THIA', 'RIBF', 'NIA', 'VITB6A', 'FOLDFE', 'FOLFD', 'FOLAC', 'VITB12', 'VITD', 'TOCPHA', 'VITK1', 'WATER'])"
      ]
     },
     "execution_count": 12,
     "metadata": {},
     "output_type": "execute_result"
    }
   ],
   "source": [
    "nutrients[0].keys()"
   ]
  },
  {
   "cell_type": "code",
   "execution_count": 13,
   "metadata": {},
   "outputs": [
    {
     "name": "stdout",
     "output_type": "stream",
     "text": [
      "{'label': 'Energy', 'quantity': 331.96545205, 'unit': 'kcal'}\n",
      "{'label': 'Fat', 'quantity': 15.008954821, 'unit': 'g'}\n",
      "{'label': 'Saturated', 'quantity': 2.2059442775, 'unit': 'g'}\n",
      "{'label': 'Trans', 'quantity': 0.0, 'unit': 'g'}\n",
      "{'label': 'Monounsaturated', 'quantity': 9.9235888555, 'unit': 'g'}\n",
      "{'label': 'Polyunsaturated', 'quantity': 2.19255406715, 'unit': 'g'}\n",
      "{'label': 'Carbs', 'quantity': 47.8064322835, 'unit': 'g'}\n",
      "{'label': 'Carbohydrates (net)', 'quantity': 29.2874412985, 'unit': 'g'}\n",
      "{'label': 'Fiber', 'quantity': 18.518990985000002, 'unit': 'g'}\n",
      "{'label': 'Sugars', 'quantity': 22.359966893000003, 'unit': 'g'}\n",
      "{'label': 'Protein', 'quantity': 12.551760556500001, 'unit': 'g'}\n",
      "{'label': 'Cholesterol', 'quantity': 0.0, 'unit': 'mg'}\n"
     ]
    }
   ],
   "source": [
    "for nutrient in nutrients[1].keys():\n",
    "    print(nutrients[1][nutrient])\n",
    "\n",
    "    #just want to look at these more closely, but we don't need to look at the micronutrients\n",
    "    if nutrients[0][nutrient]['label'] == 'Cholesterol':\n",
    "        break"
   ]
  },
  {
   "cell_type": "markdown",
   "metadata": {},
   "source": [
    "Calories is fat x 9 + protein x 4 + carbs x 4 + fiber x 2"
   ]
  },
  {
   "cell_type": "code",
   "execution_count": 14,
   "metadata": {},
   "outputs": [
    {
     "data": {
      "text/plain": [
       "339.47538277900003"
      ]
     },
     "execution_count": 14,
     "metadata": {},
     "output_type": "execute_result"
    }
   ],
   "source": [
    "fat = 2.2059442775 + 9.9235888555 + 2.19255406715 #adding up all the different types of fat doesn't result in the total fat for some reason\n",
    "(15.008954821*9 + 29.2874412985*4 + 12.551760556500001*4) + 18.518990985000002*2"
   ]
  },
  {
   "cell_type": "markdown",
   "metadata": {},
   "source": [
    "For some reason when you add this up the calories isn't an exact math with the recorded calories in the calories column (which is the same as the Energy label here). We will just use the calculation for now instead."
   ]
  },
  {
   "cell_type": "code",
   "execution_count": 32,
   "metadata": {},
   "outputs": [],
   "source": [
    "def get_macros(nutrients_row):\n",
    "    macros_dct = {}\n",
    "\n",
    "    for nutrient in nutrients_row.keys():\n",
    "        if nutrients_row[nutrient]['label'] == 'Fat':\n",
    "            macros_dct['fat'] = nutrients_row[nutrient]['quantity']\n",
    "        elif nutrients_row[nutrient]['label'] == 'Protein':\n",
    "            macros_dct['protein'] = nutrients_row[nutrient]['quantity']\n",
    "        elif nutrients_row[nutrient]['label'] == 'Carbohydrates (net)':\n",
    "            macros_dct['carbs'] = nutrients_row[nutrient]['quantity']\n",
    "        elif nutrients_row[nutrient]['label'] == 'Fiber':\n",
    "            macros_dct['fiber'] = nutrients_row[nutrient]['quantity']\n",
    "\n",
    "    return macros_dct"
   ]
  },
  {
   "cell_type": "code",
   "execution_count": 33,
   "metadata": {},
   "outputs": [
    {
     "data": {
      "text/plain": [
       "0        {'fat': 12.559853307785998, 'carbs': 19.920021...\n",
       "1        {'fat': 15.008954821, 'carbs': 29.2874412985, ...\n",
       "2        {'fat': 93.62645482099998, 'carbs': 29.1207512...\n",
       "3        {'fat': 9.997903214, 'carbs': 19.368394199, 'f...\n",
       "4        {'fat': 11.359097481766614, 'carbs': 20.608816...\n",
       "                               ...                        \n",
       "13267    {'fat': 34.50517705361625, 'carbs': 110.728102...\n",
       "13268    {'fat': 63.17689642683119, 'carbs': 2.60068561...\n",
       "13269    {'fat': 30.10379341867, 'carbs': 164.929173333...\n",
       "13270    {'fat': 31.519833673398182, 'carbs': 24.483712...\n",
       "13271    {'fat': 18.53965, 'carbs': 25.43745, 'fiber': ...\n",
       "Name: totalNutrients, Length: 13272, dtype: object"
      ]
     },
     "execution_count": 33,
     "metadata": {},
     "output_type": "execute_result"
    }
   ],
   "source": [
    "nutrients.apply(lambda row: get_macros(row))"
   ]
  },
  {
   "cell_type": "code",
   "execution_count": null,
   "metadata": {},
   "outputs": [],
   "source": []
  },
  {
   "cell_type": "code",
   "execution_count": 34,
   "metadata": {},
   "outputs": [],
   "source": [
    "recipe_name = df['label']\n",
    "#calories = df[]\n",
    "\n",
    "relevant_cols_df = pd.concat([priority_health_labels, recipe_name, food_ingredients, quantity_ingredients, measure_ingredients], axis=1)\n",
    "relevant_cols_df.head()"
   ]
  },
  {
   "cell_type": "code",
   "execution_count": null,
   "metadata": {},
   "outputs": [],
   "source": []
  },
  {
   "cell_type": "code",
   "execution_count": null,
   "metadata": {},
   "outputs": [],
   "source": []
  }
 ],
 "metadata": {
  "kernelspec": {
   "display_name": "edamam",
   "language": "python",
   "name": "python3"
  },
  "language_info": {
   "codemirror_mode": {
    "name": "ipython",
    "version": 3
   },
   "file_extension": ".py",
   "mimetype": "text/x-python",
   "name": "python",
   "nbconvert_exporter": "python",
   "pygments_lexer": "ipython3",
   "version": "3.11.7"
  }
 },
 "nbformat": 4,
 "nbformat_minor": 2
}
