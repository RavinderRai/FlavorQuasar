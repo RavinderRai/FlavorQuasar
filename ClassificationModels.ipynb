{
 "cells": [
  {
   "cell_type": "markdown",
   "id": "6a135fd0-4ca6-4708-bca8-15275fbbaf22",
   "metadata": {},
   "source": [
    "# Classification Models on Recipes\n",
    "\n",
    "This notebook contains simpler classification models rather than an LLM. The main goal here is to predict the calorie count given a recipe. "
   ]
  },
  {
   "cell_type": "code",
   "execution_count": 18,
   "id": "bbb5e8ba-b1dc-4638-8926-6f17dc5614eb",
   "metadata": {},
   "outputs": [],
   "source": [
    "import pandas as pd\n",
    "import matplotlib.pyplot as plt\n",
    "import ast"
   ]
  },
  {
   "cell_type": "code",
   "execution_count": 4,
   "id": "90edcebe-3370-45d5-84a3-b7f853fd9434",
   "metadata": {},
   "outputs": [
    {
     "data": {
      "text/html": [
       "<div>\n",
       "<style scoped>\n",
       "    .dataframe tbody tr th:only-of-type {\n",
       "        vertical-align: middle;\n",
       "    }\n",
       "\n",
       "    .dataframe tbody tr th {\n",
       "        vertical-align: top;\n",
       "    }\n",
       "\n",
       "    .dataframe thead th {\n",
       "        text-align: right;\n",
       "    }\n",
       "</style>\n",
       "<table border=\"1\" class=\"dataframe\">\n",
       "  <thead>\n",
       "    <tr style=\"text-align: right;\">\n",
       "      <th></th>\n",
       "      <th>uri</th>\n",
       "      <th>label</th>\n",
       "      <th>image</th>\n",
       "      <th>source</th>\n",
       "      <th>url</th>\n",
       "      <th>shareAs</th>\n",
       "      <th>yield</th>\n",
       "      <th>dietLabels</th>\n",
       "      <th>healthLabels</th>\n",
       "      <th>cautions</th>\n",
       "      <th>...</th>\n",
       "      <th>calories</th>\n",
       "      <th>totalWeight</th>\n",
       "      <th>totalTime</th>\n",
       "      <th>cuisineType</th>\n",
       "      <th>mealType</th>\n",
       "      <th>dishType</th>\n",
       "      <th>totalNutrients</th>\n",
       "      <th>totalDaily</th>\n",
       "      <th>digest</th>\n",
       "      <th>tags</th>\n",
       "    </tr>\n",
       "  </thead>\n",
       "  <tbody>\n",
       "    <tr>\n",
       "      <th>0</th>\n",
       "      <td>http://www.edamam.com/ontologies/edamam.owl#re...</td>\n",
       "      <td>Green Beans</td>\n",
       "      <td>https://edamam-product-images.s3.amazonaws.com...</td>\n",
       "      <td>Martha Stewart</td>\n",
       "      <td>http://www.marthastewart.com/338543/green-beans</td>\n",
       "      <td>http://www.edamam.com/recipe/green-beans-a91ad...</td>\n",
       "      <td>4.0</td>\n",
       "      <td>[]</td>\n",
       "      <td>['Sugar-Conscious', 'Kidney-Friendly', 'Keto-F...</td>\n",
       "      <td>[]</td>\n",
       "      <td>...</td>\n",
       "      <td>245.950111</td>\n",
       "      <td>471.932982</td>\n",
       "      <td>24.0</td>\n",
       "      <td>['american']</td>\n",
       "      <td>['lunch/dinner']</td>\n",
       "      <td>['main course']</td>\n",
       "      <td>{'ENERC_KCAL': {'label': 'Energy', 'quantity':...</td>\n",
       "      <td>{'ENERC_KCAL': {'label': 'Energy', 'quantity':...</td>\n",
       "      <td>[{'label': 'Fat', 'tag': 'FAT', 'schemaOrgTag'...</td>\n",
       "      <td>NaN</td>\n",
       "    </tr>\n",
       "    <tr>\n",
       "      <th>1</th>\n",
       "      <td>http://www.edamam.com/ontologies/edamam.owl#re...</td>\n",
       "      <td>Sauteed Green Beans</td>\n",
       "      <td>https://edamam-product-images.s3.amazonaws.com...</td>\n",
       "      <td>Epicurious</td>\n",
       "      <td>https://www.epicurious.com/recipes/food/views/...</td>\n",
       "      <td>http://www.edamam.com/recipe/sauteed-green-bea...</td>\n",
       "      <td>8.0</td>\n",
       "      <td>['Balanced', 'Low-Sodium']</td>\n",
       "      <td>['Sugar-Conscious', 'Kidney-Friendly', 'Keto-F...</td>\n",
       "      <td>[]</td>\n",
       "      <td>...</td>\n",
       "      <td>331.965452</td>\n",
       "      <td>699.388555</td>\n",
       "      <td>0.0</td>\n",
       "      <td>['french']</td>\n",
       "      <td>['lunch/dinner']</td>\n",
       "      <td>['starter']</td>\n",
       "      <td>{'ENERC_KCAL': {'label': 'Energy', 'quantity':...</td>\n",
       "      <td>{'ENERC_KCAL': {'label': 'Energy', 'quantity':...</td>\n",
       "      <td>[{'label': 'Fat', 'tag': 'FAT', 'schemaOrgTag'...</td>\n",
       "      <td>['Vegetarian', 'Vegan', 'Quick &amp; Easy', 'Bean'...</td>\n",
       "    </tr>\n",
       "    <tr>\n",
       "      <th>2</th>\n",
       "      <td>http://www.edamam.com/ontologies/edamam.owl#re...</td>\n",
       "      <td>Caramelized Green Beans</td>\n",
       "      <td>https://edamam-product-images.s3.amazonaws.com...</td>\n",
       "      <td>Saveur</td>\n",
       "      <td>http://www.saveur.com/article/Recipes/Carameli...</td>\n",
       "      <td>http://www.edamam.com/recipe/caramelized-green...</td>\n",
       "      <td>6.0</td>\n",
       "      <td>['Low-Carb', 'Low-Sodium']</td>\n",
       "      <td>['Sugar-Conscious', 'Kidney-Friendly', 'Keto-F...</td>\n",
       "      <td>[]</td>\n",
       "      <td>...</td>\n",
       "      <td>1025.432452</td>\n",
       "      <td>793.988555</td>\n",
       "      <td>0.0</td>\n",
       "      <td>['american']</td>\n",
       "      <td>['lunch/dinner']</td>\n",
       "      <td>['main course']</td>\n",
       "      <td>{'ENERC_KCAL': {'label': 'Energy', 'quantity':...</td>\n",
       "      <td>{'ENERC_KCAL': {'label': 'Energy', 'quantity':...</td>\n",
       "      <td>[{'label': 'Fat', 'tag': 'FAT', 'schemaOrgTag'...</td>\n",
       "      <td>NaN</td>\n",
       "    </tr>\n",
       "    <tr>\n",
       "      <th>3</th>\n",
       "      <td>http://www.edamam.com/ontologies/edamam.owl#re...</td>\n",
       "      <td>Sautéed Fresh Green Beans</td>\n",
       "      <td>https://edamam-product-images.s3.amazonaws.com...</td>\n",
       "      <td>EatingWell</td>\n",
       "      <td>http://www.eatingwell.com/recipe/261341/sautee...</td>\n",
       "      <td>http://www.edamam.com/recipe/saut%C3%A9ed-fres...</td>\n",
       "      <td>4.0</td>\n",
       "      <td>['Balanced', 'Low-Sodium']</td>\n",
       "      <td>['Sugar-Conscious', 'Kidney-Friendly', 'Keto-F...</td>\n",
       "      <td>[]</td>\n",
       "      <td>...</td>\n",
       "      <td>220.173635</td>\n",
       "      <td>462.592370</td>\n",
       "      <td>5.0</td>\n",
       "      <td>['french']</td>\n",
       "      <td>['lunch/dinner']</td>\n",
       "      <td>['starter']</td>\n",
       "      <td>{'ENERC_KCAL': {'label': 'Energy', 'quantity':...</td>\n",
       "      <td>{'ENERC_KCAL': {'label': 'Energy', 'quantity':...</td>\n",
       "      <td>[{'label': 'Fat', 'tag': 'FAT', 'schemaOrgTag'...</td>\n",
       "      <td>['Gluten-Free', 'Low Fat', 'Vegan', 'High Fibe...</td>\n",
       "    </tr>\n",
       "    <tr>\n",
       "      <th>4</th>\n",
       "      <td>http://www.edamam.com/ontologies/edamam.owl#re...</td>\n",
       "      <td>Fancy Green Beans</td>\n",
       "      <td>https://edamam-product-images.s3.amazonaws.com...</td>\n",
       "      <td>PBS Food</td>\n",
       "      <td>http://www.pbs.org/food/recipes/fancy-green-be...</td>\n",
       "      <td>http://www.edamam.com/recipe/fancy-green-beans...</td>\n",
       "      <td>2.0</td>\n",
       "      <td>['Balanced', 'High-Fiber']</td>\n",
       "      <td>['Vegan', 'Vegetarian', 'Pescatarian', 'Dairy-...</td>\n",
       "      <td>['Sulfites', 'FODMAP']</td>\n",
       "      <td>...</td>\n",
       "      <td>245.191312</td>\n",
       "      <td>472.898439</td>\n",
       "      <td>47.0</td>\n",
       "      <td>['american']</td>\n",
       "      <td>['lunch/dinner']</td>\n",
       "      <td>['main course']</td>\n",
       "      <td>{'ENERC_KCAL': {'label': 'Energy', 'quantity':...</td>\n",
       "      <td>{'ENERC_KCAL': {'label': 'Energy', 'quantity':...</td>\n",
       "      <td>[{'label': 'Fat', 'tag': 'FAT', 'schemaOrgTag'...</td>\n",
       "      <td>NaN</td>\n",
       "    </tr>\n",
       "  </tbody>\n",
       "</table>\n",
       "<p>5 rows × 22 columns</p>\n",
       "</div>"
      ],
      "text/plain": [
       "                                                 uri  \\\n",
       "0  http://www.edamam.com/ontologies/edamam.owl#re...   \n",
       "1  http://www.edamam.com/ontologies/edamam.owl#re...   \n",
       "2  http://www.edamam.com/ontologies/edamam.owl#re...   \n",
       "3  http://www.edamam.com/ontologies/edamam.owl#re...   \n",
       "4  http://www.edamam.com/ontologies/edamam.owl#re...   \n",
       "\n",
       "                       label  \\\n",
       "0                Green Beans   \n",
       "1        Sauteed Green Beans   \n",
       "2    Caramelized Green Beans   \n",
       "3  Sautéed Fresh Green Beans   \n",
       "4          Fancy Green Beans   \n",
       "\n",
       "                                               image          source  \\\n",
       "0  https://edamam-product-images.s3.amazonaws.com...  Martha Stewart   \n",
       "1  https://edamam-product-images.s3.amazonaws.com...      Epicurious   \n",
       "2  https://edamam-product-images.s3.amazonaws.com...          Saveur   \n",
       "3  https://edamam-product-images.s3.amazonaws.com...      EatingWell   \n",
       "4  https://edamam-product-images.s3.amazonaws.com...        PBS Food   \n",
       "\n",
       "                                                 url  \\\n",
       "0    http://www.marthastewart.com/338543/green-beans   \n",
       "1  https://www.epicurious.com/recipes/food/views/...   \n",
       "2  http://www.saveur.com/article/Recipes/Carameli...   \n",
       "3  http://www.eatingwell.com/recipe/261341/sautee...   \n",
       "4  http://www.pbs.org/food/recipes/fancy-green-be...   \n",
       "\n",
       "                                             shareAs  yield  \\\n",
       "0  http://www.edamam.com/recipe/green-beans-a91ad...    4.0   \n",
       "1  http://www.edamam.com/recipe/sauteed-green-bea...    8.0   \n",
       "2  http://www.edamam.com/recipe/caramelized-green...    6.0   \n",
       "3  http://www.edamam.com/recipe/saut%C3%A9ed-fres...    4.0   \n",
       "4  http://www.edamam.com/recipe/fancy-green-beans...    2.0   \n",
       "\n",
       "                   dietLabels  \\\n",
       "0                          []   \n",
       "1  ['Balanced', 'Low-Sodium']   \n",
       "2  ['Low-Carb', 'Low-Sodium']   \n",
       "3  ['Balanced', 'Low-Sodium']   \n",
       "4  ['Balanced', 'High-Fiber']   \n",
       "\n",
       "                                        healthLabels                cautions  \\\n",
       "0  ['Sugar-Conscious', 'Kidney-Friendly', 'Keto-F...                      []   \n",
       "1  ['Sugar-Conscious', 'Kidney-Friendly', 'Keto-F...                      []   \n",
       "2  ['Sugar-Conscious', 'Kidney-Friendly', 'Keto-F...                      []   \n",
       "3  ['Sugar-Conscious', 'Kidney-Friendly', 'Keto-F...                      []   \n",
       "4  ['Vegan', 'Vegetarian', 'Pescatarian', 'Dairy-...  ['Sulfites', 'FODMAP']   \n",
       "\n",
       "   ...     calories totalWeight  totalTime   cuisineType          mealType  \\\n",
       "0  ...   245.950111  471.932982       24.0  ['american']  ['lunch/dinner']   \n",
       "1  ...   331.965452  699.388555        0.0    ['french']  ['lunch/dinner']   \n",
       "2  ...  1025.432452  793.988555        0.0  ['american']  ['lunch/dinner']   \n",
       "3  ...   220.173635  462.592370        5.0    ['french']  ['lunch/dinner']   \n",
       "4  ...   245.191312  472.898439       47.0  ['american']  ['lunch/dinner']   \n",
       "\n",
       "          dishType                                     totalNutrients  \\\n",
       "0  ['main course']  {'ENERC_KCAL': {'label': 'Energy', 'quantity':...   \n",
       "1      ['starter']  {'ENERC_KCAL': {'label': 'Energy', 'quantity':...   \n",
       "2  ['main course']  {'ENERC_KCAL': {'label': 'Energy', 'quantity':...   \n",
       "3      ['starter']  {'ENERC_KCAL': {'label': 'Energy', 'quantity':...   \n",
       "4  ['main course']  {'ENERC_KCAL': {'label': 'Energy', 'quantity':...   \n",
       "\n",
       "                                          totalDaily  \\\n",
       "0  {'ENERC_KCAL': {'label': 'Energy', 'quantity':...   \n",
       "1  {'ENERC_KCAL': {'label': 'Energy', 'quantity':...   \n",
       "2  {'ENERC_KCAL': {'label': 'Energy', 'quantity':...   \n",
       "3  {'ENERC_KCAL': {'label': 'Energy', 'quantity':...   \n",
       "4  {'ENERC_KCAL': {'label': 'Energy', 'quantity':...   \n",
       "\n",
       "                                              digest  \\\n",
       "0  [{'label': 'Fat', 'tag': 'FAT', 'schemaOrgTag'...   \n",
       "1  [{'label': 'Fat', 'tag': 'FAT', 'schemaOrgTag'...   \n",
       "2  [{'label': 'Fat', 'tag': 'FAT', 'schemaOrgTag'...   \n",
       "3  [{'label': 'Fat', 'tag': 'FAT', 'schemaOrgTag'...   \n",
       "4  [{'label': 'Fat', 'tag': 'FAT', 'schemaOrgTag'...   \n",
       "\n",
       "                                                tags  \n",
       "0                                                NaN  \n",
       "1  ['Vegetarian', 'Vegan', 'Quick & Easy', 'Bean'...  \n",
       "2                                                NaN  \n",
       "3  ['Gluten-Free', 'Low Fat', 'Vegan', 'High Fibe...  \n",
       "4                                                NaN  \n",
       "\n",
       "[5 rows x 22 columns]"
      ]
     },
     "execution_count": 4,
     "metadata": {},
     "output_type": "execute_result"
    }
   ],
   "source": [
    "raw_df = pd.read_csv('recipes.csv')\n",
    "raw_df.head()"
   ]
  },
  {
   "cell_type": "code",
   "execution_count": 10,
   "id": "d12fbeea-b9ee-4287-b360-c52c09c28744",
   "metadata": {},
   "outputs": [
    {
     "name": "stdout",
     "output_type": "stream",
     "text": [
      "<class 'pandas.core.frame.DataFrame'>\n",
      "RangeIndex: 13272 entries, 0 to 13271\n",
      "Data columns (total 22 columns):\n",
      " #   Column           Non-Null Count  Dtype  \n",
      "---  ------           --------------  -----  \n",
      " 0   uri              13272 non-null  object \n",
      " 1   label            13272 non-null  object \n",
      " 2   image            13272 non-null  object \n",
      " 3   source           13272 non-null  object \n",
      " 4   url              13272 non-null  object \n",
      " 5   shareAs          13272 non-null  object \n",
      " 6   yield            13272 non-null  float64\n",
      " 7   dietLabels       13272 non-null  object \n",
      " 8   healthLabels     13272 non-null  object \n",
      " 9   cautions         13272 non-null  object \n",
      " 10  ingredientLines  13272 non-null  object \n",
      " 11  ingredients      13272 non-null  object \n",
      " 12  calories         13272 non-null  float64\n",
      " 13  totalWeight      13272 non-null  float64\n",
      " 14  totalTime        13272 non-null  float64\n",
      " 15  cuisineType      13272 non-null  object \n",
      " 16  mealType         13272 non-null  object \n",
      " 17  dishType         13139 non-null  object \n",
      " 18  totalNutrients   13272 non-null  object \n",
      " 19  totalDaily       13272 non-null  object \n",
      " 20  digest           13272 non-null  object \n",
      " 21  tags             7382 non-null   object \n",
      "dtypes: float64(4), object(18)\n",
      "memory usage: 2.2+ MB\n"
     ]
    }
   ],
   "source": [
    "raw_df.info()"
   ]
  },
  {
   "cell_type": "code",
   "execution_count": 11,
   "id": "d44c40fe-e669-41fd-b4eb-d74f6f76b1bf",
   "metadata": {},
   "outputs": [
    {
     "data": {
      "text/html": [
       "<div>\n",
       "<style scoped>\n",
       "    .dataframe tbody tr th:only-of-type {\n",
       "        vertical-align: middle;\n",
       "    }\n",
       "\n",
       "    .dataframe tbody tr th {\n",
       "        vertical-align: top;\n",
       "    }\n",
       "\n",
       "    .dataframe thead th {\n",
       "        text-align: right;\n",
       "    }\n",
       "</style>\n",
       "<table border=\"1\" class=\"dataframe\">\n",
       "  <thead>\n",
       "    <tr style=\"text-align: right;\">\n",
       "      <th></th>\n",
       "      <th>yield</th>\n",
       "      <th>calories</th>\n",
       "      <th>totalWeight</th>\n",
       "      <th>totalTime</th>\n",
       "    </tr>\n",
       "  </thead>\n",
       "  <tbody>\n",
       "    <tr>\n",
       "      <th>count</th>\n",
       "      <td>13272.000000</td>\n",
       "      <td>13272.000000</td>\n",
       "      <td>13272.000000</td>\n",
       "      <td>13272.000000</td>\n",
       "    </tr>\n",
       "    <tr>\n",
       "      <th>mean</th>\n",
       "      <td>6.390032</td>\n",
       "      <td>1919.546543</td>\n",
       "      <td>1247.258306</td>\n",
       "      <td>59.567021</td>\n",
       "    </tr>\n",
       "    <tr>\n",
       "      <th>std</th>\n",
       "      <td>6.267674</td>\n",
       "      <td>1938.485052</td>\n",
       "      <td>1009.295434</td>\n",
       "      <td>400.767255</td>\n",
       "    </tr>\n",
       "    <tr>\n",
       "      <th>min</th>\n",
       "      <td>0.666000</td>\n",
       "      <td>0.840000</td>\n",
       "      <td>5.325627</td>\n",
       "      <td>0.000000</td>\n",
       "    </tr>\n",
       "    <tr>\n",
       "      <th>25%</th>\n",
       "      <td>4.000000</td>\n",
       "      <td>734.920750</td>\n",
       "      <td>575.989799</td>\n",
       "      <td>0.000000</td>\n",
       "    </tr>\n",
       "    <tr>\n",
       "      <th>50%</th>\n",
       "      <td>4.000000</td>\n",
       "      <td>1419.177262</td>\n",
       "      <td>980.685969</td>\n",
       "      <td>15.000000</td>\n",
       "    </tr>\n",
       "    <tr>\n",
       "      <th>75%</th>\n",
       "      <td>8.000000</td>\n",
       "      <td>2429.584040</td>\n",
       "      <td>1590.382305</td>\n",
       "      <td>45.000000</td>\n",
       "    </tr>\n",
       "    <tr>\n",
       "      <th>max</th>\n",
       "      <td>150.000000</td>\n",
       "      <td>44565.178197</td>\n",
       "      <td>7956.830802</td>\n",
       "      <td>30245.000000</td>\n",
       "    </tr>\n",
       "  </tbody>\n",
       "</table>\n",
       "</div>"
      ],
      "text/plain": [
       "              yield      calories   totalWeight     totalTime\n",
       "count  13272.000000  13272.000000  13272.000000  13272.000000\n",
       "mean       6.390032   1919.546543   1247.258306     59.567021\n",
       "std        6.267674   1938.485052   1009.295434    400.767255\n",
       "min        0.666000      0.840000      5.325627      0.000000\n",
       "25%        4.000000    734.920750    575.989799      0.000000\n",
       "50%        4.000000   1419.177262    980.685969     15.000000\n",
       "75%        8.000000   2429.584040   1590.382305     45.000000\n",
       "max      150.000000  44565.178197   7956.830802  30245.000000"
      ]
     },
     "execution_count": 11,
     "metadata": {},
     "output_type": "execute_result"
    }
   ],
   "source": [
    "raw_df.describe()"
   ]
  },
  {
   "cell_type": "code",
   "execution_count": 22,
   "id": "e900090c-2c29-4788-9287-0b4168217004",
   "metadata": {},
   "outputs": [
    {
     "data": {
      "text/html": [
       "<div>\n",
       "<style scoped>\n",
       "    .dataframe tbody tr th:only-of-type {\n",
       "        vertical-align: middle;\n",
       "    }\n",
       "\n",
       "    .dataframe tbody tr th {\n",
       "        vertical-align: top;\n",
       "    }\n",
       "\n",
       "    .dataframe thead th {\n",
       "        text-align: right;\n",
       "    }\n",
       "</style>\n",
       "<table border=\"1\" class=\"dataframe\">\n",
       "  <thead>\n",
       "    <tr style=\"text-align: right;\">\n",
       "      <th></th>\n",
       "      <th>uri</th>\n",
       "      <th>label</th>\n",
       "      <th>image</th>\n",
       "      <th>source</th>\n",
       "      <th>url</th>\n",
       "      <th>shareAs</th>\n",
       "      <th>yield</th>\n",
       "      <th>dietLabels</th>\n",
       "      <th>healthLabels</th>\n",
       "      <th>cautions</th>\n",
       "      <th>...</th>\n",
       "      <th>calories</th>\n",
       "      <th>totalWeight</th>\n",
       "      <th>totalTime</th>\n",
       "      <th>cuisineType</th>\n",
       "      <th>mealType</th>\n",
       "      <th>dishType</th>\n",
       "      <th>totalNutrients</th>\n",
       "      <th>totalDaily</th>\n",
       "      <th>digest</th>\n",
       "      <th>tags</th>\n",
       "    </tr>\n",
       "  </thead>\n",
       "  <tbody>\n",
       "    <tr>\n",
       "      <th>0</th>\n",
       "      <td>http://www.edamam.com/ontologies/edamam.owl#re...</td>\n",
       "      <td>Green Beans</td>\n",
       "      <td>https://edamam-product-images.s3.amazonaws.com...</td>\n",
       "      <td>Martha Stewart</td>\n",
       "      <td>http://www.marthastewart.com/338543/green-beans</td>\n",
       "      <td>http://www.edamam.com/recipe/green-beans-a91ad...</td>\n",
       "      <td>4.0</td>\n",
       "      <td>[]</td>\n",
       "      <td>['Sugar-Conscious', 'Kidney-Friendly', 'Keto-F...</td>\n",
       "      <td>[]</td>\n",
       "      <td>...</td>\n",
       "      <td>245.950111</td>\n",
       "      <td>471.932982</td>\n",
       "      <td>24.0</td>\n",
       "      <td>['american']</td>\n",
       "      <td>['lunch/dinner']</td>\n",
       "      <td>['main course']</td>\n",
       "      <td>{'ENERC_KCAL': {'label': 'Energy', 'quantity':...</td>\n",
       "      <td>{'ENERC_KCAL': {'label': 'Energy', 'quantity':...</td>\n",
       "      <td>[{'label': 'Fat', 'tag': 'FAT', 'schemaOrgTag'...</td>\n",
       "      <td>NaN</td>\n",
       "    </tr>\n",
       "    <tr>\n",
       "      <th>1</th>\n",
       "      <td>http://www.edamam.com/ontologies/edamam.owl#re...</td>\n",
       "      <td>Sauteed Green Beans</td>\n",
       "      <td>https://edamam-product-images.s3.amazonaws.com...</td>\n",
       "      <td>Epicurious</td>\n",
       "      <td>https://www.epicurious.com/recipes/food/views/...</td>\n",
       "      <td>http://www.edamam.com/recipe/sauteed-green-bea...</td>\n",
       "      <td>8.0</td>\n",
       "      <td>['Balanced', 'Low-Sodium']</td>\n",
       "      <td>['Sugar-Conscious', 'Kidney-Friendly', 'Keto-F...</td>\n",
       "      <td>[]</td>\n",
       "      <td>...</td>\n",
       "      <td>331.965452</td>\n",
       "      <td>699.388555</td>\n",
       "      <td>0.0</td>\n",
       "      <td>['french']</td>\n",
       "      <td>['lunch/dinner']</td>\n",
       "      <td>['starter']</td>\n",
       "      <td>{'ENERC_KCAL': {'label': 'Energy', 'quantity':...</td>\n",
       "      <td>{'ENERC_KCAL': {'label': 'Energy', 'quantity':...</td>\n",
       "      <td>[{'label': 'Fat', 'tag': 'FAT', 'schemaOrgTag'...</td>\n",
       "      <td>['Vegetarian', 'Vegan', 'Quick &amp; Easy', 'Bean'...</td>\n",
       "    </tr>\n",
       "    <tr>\n",
       "      <th>2</th>\n",
       "      <td>http://www.edamam.com/ontologies/edamam.owl#re...</td>\n",
       "      <td>Caramelized Green Beans</td>\n",
       "      <td>https://edamam-product-images.s3.amazonaws.com...</td>\n",
       "      <td>Saveur</td>\n",
       "      <td>http://www.saveur.com/article/Recipes/Carameli...</td>\n",
       "      <td>http://www.edamam.com/recipe/caramelized-green...</td>\n",
       "      <td>6.0</td>\n",
       "      <td>['Low-Carb', 'Low-Sodium']</td>\n",
       "      <td>['Sugar-Conscious', 'Kidney-Friendly', 'Keto-F...</td>\n",
       "      <td>[]</td>\n",
       "      <td>...</td>\n",
       "      <td>1025.432452</td>\n",
       "      <td>793.988555</td>\n",
       "      <td>0.0</td>\n",
       "      <td>['american']</td>\n",
       "      <td>['lunch/dinner']</td>\n",
       "      <td>['main course']</td>\n",
       "      <td>{'ENERC_KCAL': {'label': 'Energy', 'quantity':...</td>\n",
       "      <td>{'ENERC_KCAL': {'label': 'Energy', 'quantity':...</td>\n",
       "      <td>[{'label': 'Fat', 'tag': 'FAT', 'schemaOrgTag'...</td>\n",
       "      <td>NaN</td>\n",
       "    </tr>\n",
       "    <tr>\n",
       "      <th>3</th>\n",
       "      <td>http://www.edamam.com/ontologies/edamam.owl#re...</td>\n",
       "      <td>Sautéed Fresh Green Beans</td>\n",
       "      <td>https://edamam-product-images.s3.amazonaws.com...</td>\n",
       "      <td>EatingWell</td>\n",
       "      <td>http://www.eatingwell.com/recipe/261341/sautee...</td>\n",
       "      <td>http://www.edamam.com/recipe/saut%C3%A9ed-fres...</td>\n",
       "      <td>4.0</td>\n",
       "      <td>['Balanced', 'Low-Sodium']</td>\n",
       "      <td>['Sugar-Conscious', 'Kidney-Friendly', 'Keto-F...</td>\n",
       "      <td>[]</td>\n",
       "      <td>...</td>\n",
       "      <td>220.173635</td>\n",
       "      <td>462.592370</td>\n",
       "      <td>5.0</td>\n",
       "      <td>['french']</td>\n",
       "      <td>['lunch/dinner']</td>\n",
       "      <td>['starter']</td>\n",
       "      <td>{'ENERC_KCAL': {'label': 'Energy', 'quantity':...</td>\n",
       "      <td>{'ENERC_KCAL': {'label': 'Energy', 'quantity':...</td>\n",
       "      <td>[{'label': 'Fat', 'tag': 'FAT', 'schemaOrgTag'...</td>\n",
       "      <td>['Gluten-Free', 'Low Fat', 'Vegan', 'High Fibe...</td>\n",
       "    </tr>\n",
       "    <tr>\n",
       "      <th>4</th>\n",
       "      <td>http://www.edamam.com/ontologies/edamam.owl#re...</td>\n",
       "      <td>Fancy Green Beans</td>\n",
       "      <td>https://edamam-product-images.s3.amazonaws.com...</td>\n",
       "      <td>PBS Food</td>\n",
       "      <td>http://www.pbs.org/food/recipes/fancy-green-be...</td>\n",
       "      <td>http://www.edamam.com/recipe/fancy-green-beans...</td>\n",
       "      <td>2.0</td>\n",
       "      <td>['Balanced', 'High-Fiber']</td>\n",
       "      <td>['Vegan', 'Vegetarian', 'Pescatarian', 'Dairy-...</td>\n",
       "      <td>['Sulfites', 'FODMAP']</td>\n",
       "      <td>...</td>\n",
       "      <td>245.191312</td>\n",
       "      <td>472.898439</td>\n",
       "      <td>47.0</td>\n",
       "      <td>['american']</td>\n",
       "      <td>['lunch/dinner']</td>\n",
       "      <td>['main course']</td>\n",
       "      <td>{'ENERC_KCAL': {'label': 'Energy', 'quantity':...</td>\n",
       "      <td>{'ENERC_KCAL': {'label': 'Energy', 'quantity':...</td>\n",
       "      <td>[{'label': 'Fat', 'tag': 'FAT', 'schemaOrgTag'...</td>\n",
       "      <td>NaN</td>\n",
       "    </tr>\n",
       "    <tr>\n",
       "      <th>...</th>\n",
       "      <td>...</td>\n",
       "      <td>...</td>\n",
       "      <td>...</td>\n",
       "      <td>...</td>\n",
       "      <td>...</td>\n",
       "      <td>...</td>\n",
       "      <td>...</td>\n",
       "      <td>...</td>\n",
       "      <td>...</td>\n",
       "      <td>...</td>\n",
       "      <td>...</td>\n",
       "      <td>...</td>\n",
       "      <td>...</td>\n",
       "      <td>...</td>\n",
       "      <td>...</td>\n",
       "      <td>...</td>\n",
       "      <td>...</td>\n",
       "      <td>...</td>\n",
       "      <td>...</td>\n",
       "      <td>...</td>\n",
       "      <td>...</td>\n",
       "    </tr>\n",
       "    <tr>\n",
       "      <th>13267</th>\n",
       "      <td>http://www.edamam.com/ontologies/edamam.owl#re...</td>\n",
       "      <td>Red Pepper Farro With Tuna</td>\n",
       "      <td>https://edamam-product-images.s3.amazonaws.com...</td>\n",
       "      <td>Self</td>\n",
       "      <td>https://www.self.com/recipe/red-pepper-farro-w...</td>\n",
       "      <td>http://www.edamam.com/recipe/red-pepper-farro-...</td>\n",
       "      <td>6.0</td>\n",
       "      <td>[]</td>\n",
       "      <td>['Sugar-Conscious', 'Pescatarian', 'Mediterran...</td>\n",
       "      <td>['Sulfites']</td>\n",
       "      <td>...</td>\n",
       "      <td>1118.129068</td>\n",
       "      <td>652.479234</td>\n",
       "      <td>0.0</td>\n",
       "      <td>['italian']</td>\n",
       "      <td>['lunch/dinner']</td>\n",
       "      <td>['starter']</td>\n",
       "      <td>{'ENERC_KCAL': {'label': 'Energy', 'quantity':...</td>\n",
       "      <td>{'ENERC_KCAL': {'label': 'Energy', 'quantity':...</td>\n",
       "      <td>[{'label': 'Fat', 'tag': 'FAT', 'schemaOrgTag'...</td>\n",
       "      <td>NaN</td>\n",
       "    </tr>\n",
       "    <tr>\n",
       "      <th>13268</th>\n",
       "      <td>http://www.edamam.com/ontologies/edamam.owl#re...</td>\n",
       "      <td>Tuna Salad</td>\n",
       "      <td>https://edamam-product-images.s3.amazonaws.com...</td>\n",
       "      <td>Food Network</td>\n",
       "      <td>https://www.foodnetwork.com/recipes/food-netwo...</td>\n",
       "      <td>http://www.edamam.com/recipe/tuna-salad-9a9f92...</td>\n",
       "      <td>4.0</td>\n",
       "      <td>['Low-Carb']</td>\n",
       "      <td>['Sugar-Conscious', 'Kidney-Friendly', 'Keto-F...</td>\n",
       "      <td>['Sulfites']</td>\n",
       "      <td>...</td>\n",
       "      <td>848.826200</td>\n",
       "      <td>470.413798</td>\n",
       "      <td>15.0</td>\n",
       "      <td>['american']</td>\n",
       "      <td>['lunch/dinner']</td>\n",
       "      <td>['salad']</td>\n",
       "      <td>{'ENERC_KCAL': {'label': 'Energy', 'quantity':...</td>\n",
       "      <td>{'ENERC_KCAL': {'label': 'Energy', 'quantity':...</td>\n",
       "      <td>[{'label': 'Fat', 'tag': 'FAT', 'schemaOrgTag'...</td>\n",
       "      <td>['Fish', 'Lunch', 'Vegetable', 'Celery', 'Amer...</td>\n",
       "    </tr>\n",
       "    <tr>\n",
       "      <th>13269</th>\n",
       "      <td>http://www.edamam.com/ontologies/edamam.owl#re...</td>\n",
       "      <td>Savory Tuna Sandwich</td>\n",
       "      <td>https://edamam-product-images.s3.amazonaws.com...</td>\n",
       "      <td>Men's Health</td>\n",
       "      <td>https://www.menshealth.com/recipes/savory-tuna...</td>\n",
       "      <td>http://www.edamam.com/recipe/savory-tuna-sandw...</td>\n",
       "      <td>6.0</td>\n",
       "      <td>['High-Fiber']</td>\n",
       "      <td>['Pescatarian', 'Mediterranean', 'Dairy-Free',...</td>\n",
       "      <td>['Sulfites']</td>\n",
       "      <td>...</td>\n",
       "      <td>1544.770105</td>\n",
       "      <td>1583.525703</td>\n",
       "      <td>10.0</td>\n",
       "      <td>['american']</td>\n",
       "      <td>['lunch/dinner']</td>\n",
       "      <td>['sandwiches']</td>\n",
       "      <td>{'ENERC_KCAL': {'label': 'Energy', 'quantity':...</td>\n",
       "      <td>{'ENERC_KCAL': {'label': 'Energy', 'quantity':...</td>\n",
       "      <td>[{'label': 'Fat', 'tag': 'FAT', 'schemaOrgTag'...</td>\n",
       "      <td>['Fish', 'Lunch', 'Main Dishes', 'American', '...</td>\n",
       "    </tr>\n",
       "    <tr>\n",
       "      <th>13270</th>\n",
       "      <td>http://www.edamam.com/ontologies/edamam.owl#re...</td>\n",
       "      <td>Tiny Tuna Melts recipes</td>\n",
       "      <td>https://edamam-product-images.s3.amazonaws.com...</td>\n",
       "      <td>Martha Stewart</td>\n",
       "      <td>http://www.marthastewart.com/326831/tiny-tuna-...</td>\n",
       "      <td>http://www.edamam.com/recipe/tiny-tuna-melts-r...</td>\n",
       "      <td>2.0</td>\n",
       "      <td>[]</td>\n",
       "      <td>['Sugar-Conscious', 'Low Potassium', 'Kidney-F...</td>\n",
       "      <td>['Sulfites']</td>\n",
       "      <td>...</td>\n",
       "      <td>486.300996</td>\n",
       "      <td>176.831644</td>\n",
       "      <td>10.0</td>\n",
       "      <td>['american']</td>\n",
       "      <td>['lunch/dinner']</td>\n",
       "      <td>['sandwiches']</td>\n",
       "      <td>{'ENERC_KCAL': {'label': 'Energy', 'quantity':...</td>\n",
       "      <td>{'ENERC_KCAL': {'label': 'Energy', 'quantity':...</td>\n",
       "      <td>[{'label': 'Fat', 'tag': 'FAT', 'schemaOrgTag'...</td>\n",
       "      <td>['salmon', 'tiny', 'tuna and crackers', 'healt...</td>\n",
       "    </tr>\n",
       "    <tr>\n",
       "      <th>13271</th>\n",
       "      <td>http://www.edamam.com/ontologies/edamam.owl#re...</td>\n",
       "      <td>Mexi-Cali Tuna Salad</td>\n",
       "      <td>https://edamam-product-images.s3.amazonaws.com...</td>\n",
       "      <td>Men's Health</td>\n",
       "      <td>https://www.menshealth.com/recipes/mexi-cali-t...</td>\n",
       "      <td>http://www.edamam.com/recipe/mexi-cali-tuna-sa...</td>\n",
       "      <td>4.0</td>\n",
       "      <td>['High-Fiber']</td>\n",
       "      <td>['Sugar-Conscious', 'Keto-Friendly', 'Pescatar...</td>\n",
       "      <td>['Sulfites']</td>\n",
       "      <td>...</td>\n",
       "      <td>633.055000</td>\n",
       "      <td>725.000000</td>\n",
       "      <td>5.0</td>\n",
       "      <td>['mexican']</td>\n",
       "      <td>['lunch/dinner']</td>\n",
       "      <td>['salad']</td>\n",
       "      <td>{'ENERC_KCAL': {'label': 'Energy', 'quantity':...</td>\n",
       "      <td>{'ENERC_KCAL': {'label': 'Energy', 'quantity':...</td>\n",
       "      <td>[{'label': 'Fat', 'tag': 'FAT', 'schemaOrgTag'...</td>\n",
       "      <td>['Fish', 'Lunch', 'Vegetable', 'Salads', 'Main...</td>\n",
       "    </tr>\n",
       "  </tbody>\n",
       "</table>\n",
       "<p>12501 rows × 22 columns</p>\n",
       "</div>"
      ],
      "text/plain": [
       "                                                     uri  \\\n",
       "0      http://www.edamam.com/ontologies/edamam.owl#re...   \n",
       "1      http://www.edamam.com/ontologies/edamam.owl#re...   \n",
       "2      http://www.edamam.com/ontologies/edamam.owl#re...   \n",
       "3      http://www.edamam.com/ontologies/edamam.owl#re...   \n",
       "4      http://www.edamam.com/ontologies/edamam.owl#re...   \n",
       "...                                                  ...   \n",
       "13267  http://www.edamam.com/ontologies/edamam.owl#re...   \n",
       "13268  http://www.edamam.com/ontologies/edamam.owl#re...   \n",
       "13269  http://www.edamam.com/ontologies/edamam.owl#re...   \n",
       "13270  http://www.edamam.com/ontologies/edamam.owl#re...   \n",
       "13271  http://www.edamam.com/ontologies/edamam.owl#re...   \n",
       "\n",
       "                            label  \\\n",
       "0                     Green Beans   \n",
       "1             Sauteed Green Beans   \n",
       "2         Caramelized Green Beans   \n",
       "3       Sautéed Fresh Green Beans   \n",
       "4               Fancy Green Beans   \n",
       "...                           ...   \n",
       "13267  Red Pepper Farro With Tuna   \n",
       "13268                  Tuna Salad   \n",
       "13269        Savory Tuna Sandwich   \n",
       "13270     Tiny Tuna Melts recipes   \n",
       "13271        Mexi-Cali Tuna Salad   \n",
       "\n",
       "                                                   image          source  \\\n",
       "0      https://edamam-product-images.s3.amazonaws.com...  Martha Stewart   \n",
       "1      https://edamam-product-images.s3.amazonaws.com...      Epicurious   \n",
       "2      https://edamam-product-images.s3.amazonaws.com...          Saveur   \n",
       "3      https://edamam-product-images.s3.amazonaws.com...      EatingWell   \n",
       "4      https://edamam-product-images.s3.amazonaws.com...        PBS Food   \n",
       "...                                                  ...             ...   \n",
       "13267  https://edamam-product-images.s3.amazonaws.com...            Self   \n",
       "13268  https://edamam-product-images.s3.amazonaws.com...    Food Network   \n",
       "13269  https://edamam-product-images.s3.amazonaws.com...    Men's Health   \n",
       "13270  https://edamam-product-images.s3.amazonaws.com...  Martha Stewart   \n",
       "13271  https://edamam-product-images.s3.amazonaws.com...    Men's Health   \n",
       "\n",
       "                                                     url  \\\n",
       "0        http://www.marthastewart.com/338543/green-beans   \n",
       "1      https://www.epicurious.com/recipes/food/views/...   \n",
       "2      http://www.saveur.com/article/Recipes/Carameli...   \n",
       "3      http://www.eatingwell.com/recipe/261341/sautee...   \n",
       "4      http://www.pbs.org/food/recipes/fancy-green-be...   \n",
       "...                                                  ...   \n",
       "13267  https://www.self.com/recipe/red-pepper-farro-w...   \n",
       "13268  https://www.foodnetwork.com/recipes/food-netwo...   \n",
       "13269  https://www.menshealth.com/recipes/savory-tuna...   \n",
       "13270  http://www.marthastewart.com/326831/tiny-tuna-...   \n",
       "13271  https://www.menshealth.com/recipes/mexi-cali-t...   \n",
       "\n",
       "                                                 shareAs  yield  \\\n",
       "0      http://www.edamam.com/recipe/green-beans-a91ad...    4.0   \n",
       "1      http://www.edamam.com/recipe/sauteed-green-bea...    8.0   \n",
       "2      http://www.edamam.com/recipe/caramelized-green...    6.0   \n",
       "3      http://www.edamam.com/recipe/saut%C3%A9ed-fres...    4.0   \n",
       "4      http://www.edamam.com/recipe/fancy-green-beans...    2.0   \n",
       "...                                                  ...    ...   \n",
       "13267  http://www.edamam.com/recipe/red-pepper-farro-...    6.0   \n",
       "13268  http://www.edamam.com/recipe/tuna-salad-9a9f92...    4.0   \n",
       "13269  http://www.edamam.com/recipe/savory-tuna-sandw...    6.0   \n",
       "13270  http://www.edamam.com/recipe/tiny-tuna-melts-r...    2.0   \n",
       "13271  http://www.edamam.com/recipe/mexi-cali-tuna-sa...    4.0   \n",
       "\n",
       "                       dietLabels  \\\n",
       "0                              []   \n",
       "1      ['Balanced', 'Low-Sodium']   \n",
       "2      ['Low-Carb', 'Low-Sodium']   \n",
       "3      ['Balanced', 'Low-Sodium']   \n",
       "4      ['Balanced', 'High-Fiber']   \n",
       "...                           ...   \n",
       "13267                          []   \n",
       "13268                ['Low-Carb']   \n",
       "13269              ['High-Fiber']   \n",
       "13270                          []   \n",
       "13271              ['High-Fiber']   \n",
       "\n",
       "                                            healthLabels  \\\n",
       "0      ['Sugar-Conscious', 'Kidney-Friendly', 'Keto-F...   \n",
       "1      ['Sugar-Conscious', 'Kidney-Friendly', 'Keto-F...   \n",
       "2      ['Sugar-Conscious', 'Kidney-Friendly', 'Keto-F...   \n",
       "3      ['Sugar-Conscious', 'Kidney-Friendly', 'Keto-F...   \n",
       "4      ['Vegan', 'Vegetarian', 'Pescatarian', 'Dairy-...   \n",
       "...                                                  ...   \n",
       "13267  ['Sugar-Conscious', 'Pescatarian', 'Mediterran...   \n",
       "13268  ['Sugar-Conscious', 'Kidney-Friendly', 'Keto-F...   \n",
       "13269  ['Pescatarian', 'Mediterranean', 'Dairy-Free',...   \n",
       "13270  ['Sugar-Conscious', 'Low Potassium', 'Kidney-F...   \n",
       "13271  ['Sugar-Conscious', 'Keto-Friendly', 'Pescatar...   \n",
       "\n",
       "                     cautions  ...     calories  totalWeight  totalTime  \\\n",
       "0                          []  ...   245.950111   471.932982       24.0   \n",
       "1                          []  ...   331.965452   699.388555        0.0   \n",
       "2                          []  ...  1025.432452   793.988555        0.0   \n",
       "3                          []  ...   220.173635   462.592370        5.0   \n",
       "4      ['Sulfites', 'FODMAP']  ...   245.191312   472.898439       47.0   \n",
       "...                       ...  ...          ...          ...        ...   \n",
       "13267            ['Sulfites']  ...  1118.129068   652.479234        0.0   \n",
       "13268            ['Sulfites']  ...   848.826200   470.413798       15.0   \n",
       "13269            ['Sulfites']  ...  1544.770105  1583.525703       10.0   \n",
       "13270            ['Sulfites']  ...   486.300996   176.831644       10.0   \n",
       "13271            ['Sulfites']  ...   633.055000   725.000000        5.0   \n",
       "\n",
       "        cuisineType          mealType         dishType  \\\n",
       "0      ['american']  ['lunch/dinner']  ['main course']   \n",
       "1        ['french']  ['lunch/dinner']      ['starter']   \n",
       "2      ['american']  ['lunch/dinner']  ['main course']   \n",
       "3        ['french']  ['lunch/dinner']      ['starter']   \n",
       "4      ['american']  ['lunch/dinner']  ['main course']   \n",
       "...             ...               ...              ...   \n",
       "13267   ['italian']  ['lunch/dinner']      ['starter']   \n",
       "13268  ['american']  ['lunch/dinner']        ['salad']   \n",
       "13269  ['american']  ['lunch/dinner']   ['sandwiches']   \n",
       "13270  ['american']  ['lunch/dinner']   ['sandwiches']   \n",
       "13271   ['mexican']  ['lunch/dinner']        ['salad']   \n",
       "\n",
       "                                          totalNutrients  \\\n",
       "0      {'ENERC_KCAL': {'label': 'Energy', 'quantity':...   \n",
       "1      {'ENERC_KCAL': {'label': 'Energy', 'quantity':...   \n",
       "2      {'ENERC_KCAL': {'label': 'Energy', 'quantity':...   \n",
       "3      {'ENERC_KCAL': {'label': 'Energy', 'quantity':...   \n",
       "4      {'ENERC_KCAL': {'label': 'Energy', 'quantity':...   \n",
       "...                                                  ...   \n",
       "13267  {'ENERC_KCAL': {'label': 'Energy', 'quantity':...   \n",
       "13268  {'ENERC_KCAL': {'label': 'Energy', 'quantity':...   \n",
       "13269  {'ENERC_KCAL': {'label': 'Energy', 'quantity':...   \n",
       "13270  {'ENERC_KCAL': {'label': 'Energy', 'quantity':...   \n",
       "13271  {'ENERC_KCAL': {'label': 'Energy', 'quantity':...   \n",
       "\n",
       "                                              totalDaily  \\\n",
       "0      {'ENERC_KCAL': {'label': 'Energy', 'quantity':...   \n",
       "1      {'ENERC_KCAL': {'label': 'Energy', 'quantity':...   \n",
       "2      {'ENERC_KCAL': {'label': 'Energy', 'quantity':...   \n",
       "3      {'ENERC_KCAL': {'label': 'Energy', 'quantity':...   \n",
       "4      {'ENERC_KCAL': {'label': 'Energy', 'quantity':...   \n",
       "...                                                  ...   \n",
       "13267  {'ENERC_KCAL': {'label': 'Energy', 'quantity':...   \n",
       "13268  {'ENERC_KCAL': {'label': 'Energy', 'quantity':...   \n",
       "13269  {'ENERC_KCAL': {'label': 'Energy', 'quantity':...   \n",
       "13270  {'ENERC_KCAL': {'label': 'Energy', 'quantity':...   \n",
       "13271  {'ENERC_KCAL': {'label': 'Energy', 'quantity':...   \n",
       "\n",
       "                                                  digest  \\\n",
       "0      [{'label': 'Fat', 'tag': 'FAT', 'schemaOrgTag'...   \n",
       "1      [{'label': 'Fat', 'tag': 'FAT', 'schemaOrgTag'...   \n",
       "2      [{'label': 'Fat', 'tag': 'FAT', 'schemaOrgTag'...   \n",
       "3      [{'label': 'Fat', 'tag': 'FAT', 'schemaOrgTag'...   \n",
       "4      [{'label': 'Fat', 'tag': 'FAT', 'schemaOrgTag'...   \n",
       "...                                                  ...   \n",
       "13267  [{'label': 'Fat', 'tag': 'FAT', 'schemaOrgTag'...   \n",
       "13268  [{'label': 'Fat', 'tag': 'FAT', 'schemaOrgTag'...   \n",
       "13269  [{'label': 'Fat', 'tag': 'FAT', 'schemaOrgTag'...   \n",
       "13270  [{'label': 'Fat', 'tag': 'FAT', 'schemaOrgTag'...   \n",
       "13271  [{'label': 'Fat', 'tag': 'FAT', 'schemaOrgTag'...   \n",
       "\n",
       "                                                    tags  \n",
       "0                                                    NaN  \n",
       "1      ['Vegetarian', 'Vegan', 'Quick & Easy', 'Bean'...  \n",
       "2                                                    NaN  \n",
       "3      ['Gluten-Free', 'Low Fat', 'Vegan', 'High Fibe...  \n",
       "4                                                    NaN  \n",
       "...                                                  ...  \n",
       "13267                                                NaN  \n",
       "13268  ['Fish', 'Lunch', 'Vegetable', 'Celery', 'Amer...  \n",
       "13269  ['Fish', 'Lunch', 'Main Dishes', 'American', '...  \n",
       "13270  ['salmon', 'tiny', 'tuna and crackers', 'healt...  \n",
       "13271  ['Fish', 'Lunch', 'Vegetable', 'Salads', 'Main...  \n",
       "\n",
       "[12501 rows x 22 columns]"
      ]
     },
     "execution_count": 22,
     "metadata": {},
     "output_type": "execute_result"
    }
   ],
   "source": [
    "raw_df[raw_df['calories'] < 5000]"
   ]
  },
  {
   "cell_type": "markdown",
   "id": "2caac3cc-ebcd-459a-b672-3d47f23cd55a",
   "metadata": {},
   "source": [
    "So most recipes have less than 5000 calories. Certainly past 10000 calories for a single meal is abnormal so we might consider removing these recipes from consideration. Likely though, most meals will have less than 2500 calories, so removing recipes with calories counts past aroudn 2500 makes the most sense."
   ]
  },
  {
   "cell_type": "code",
   "execution_count": 8,
   "id": "a321af0b-f69a-4442-bad8-438ee73ee6fb",
   "metadata": {},
   "outputs": [
    {
     "data": {
      "text/plain": [
       "uri                http://www.edamam.com/ontologies/edamam.owl#re...\n",
       "label                                             French Green Beans\n",
       "image              https://edamam-product-images.s3.amazonaws.com...\n",
       "source                                                  Food Network\n",
       "url                https://www.foodnetwork.com/recipes/danny-boom...\n",
       "shareAs            http://www.edamam.com/recipe/french-green-bean...\n",
       "yield                                                            6.0\n",
       "dietLabels                                               ['Low-Fat']\n",
       "healthLabels       ['Sugar-Conscious', 'Kidney-Friendly', 'Keto-F...\n",
       "cautions                                                          []\n",
       "ingredientLines    ['1 pound French green beans (haricots verts)'...\n",
       "ingredients        [{'text': '1 pound French green beans (haricot...\n",
       "calories                                                  140.613635\n",
       "totalWeight                                               456.240835\n",
       "totalTime                                                        8.0\n",
       "cuisineType                                               ['french']\n",
       "mealType                                            ['lunch/dinner']\n",
       "dishType                                                ['desserts']\n",
       "totalNutrients     {'ENERC_KCAL': {'label': 'Energy', 'quantity':...\n",
       "totalDaily         {'ENERC_KCAL': {'label': 'Energy', 'quantity':...\n",
       "digest             [{'label': 'Fat', 'tag': 'FAT', 'schemaOrgTag'...\n",
       "tags               ['Easy', 'Side Dish', 'Green Bean', 'Beans and...\n",
       "Name: 5, dtype: object"
      ]
     },
     "execution_count": 8,
     "metadata": {},
     "output_type": "execute_result"
    }
   ],
   "source": [
    "raw_df.iloc[5]"
   ]
  },
  {
   "cell_type": "markdown",
   "id": "5e26629e-ea81-4d58-a2a6-837f1597a879",
   "metadata": {},
   "source": [
    "## Data Exploration and Preprocessing.\n",
    "\n",
    "To start, we want to build a classification model on the calories column. So we will convert the column to bins to make it a classification task. Then the input will be the recipe name and we will also use the mealType and dishType since these are things people should know off hand normally. healthLabels and dietLabels won't always be easily known so it might be better to predicts these themselves rather than using them as inputs. "
   ]
  },
  {
   "cell_type": "code",
   "execution_count": 25,
   "id": "f36f85ff-4106-4a52-833d-ed43cdcfb62c",
   "metadata": {},
   "outputs": [
    {
     "data": {
      "text/plain": [
       "(11680, 22)"
      ]
     },
     "execution_count": 25,
     "metadata": {},
     "output_type": "execute_result"
    }
   ],
   "source": [
    "#first drop duplicates from recipe names or label column\n",
    "df = raw_df.drop_duplicates('label')\n",
    "df.shape"
   ]
  },
  {
   "cell_type": "code",
   "execution_count": 77,
   "id": "ace748ca-7dcc-4dd4-9647-79b118aff238",
   "metadata": {},
   "outputs": [
    {
     "data": {
      "text/plain": [
       "114"
      ]
     },
     "execution_count": 77,
     "metadata": {},
     "output_type": "execute_result"
    }
   ],
   "source": [
    "df['dishType'].isna().sum()"
   ]
  },
  {
   "cell_type": "code",
   "execution_count": 78,
   "id": "ee5f8757-278a-45aa-909a-345277286fda",
   "metadata": {},
   "outputs": [
    {
     "data": {
      "text/plain": [
       "0"
      ]
     },
     "execution_count": 78,
     "metadata": {},
     "output_type": "execute_result"
    }
   ],
   "source": [
    "df['mealType'].isna().sum()"
   ]
  },
  {
   "cell_type": "code",
   "execution_count": 79,
   "id": "a7c1dd12-6372-4ab9-a952-0d85ebab9bf9",
   "metadata": {},
   "outputs": [
    {
     "name": "stdout",
     "output_type": "stream",
     "text": [
      "0\n"
     ]
    }
   ],
   "source": [
    "# so we need to remove the rows with null dishType\n",
    "df = df.dropna(subset=['dishType'])\n",
    "print(df['dishType'].isna().sum())"
   ]
  },
  {
   "cell_type": "code",
   "execution_count": 80,
   "id": "870fb262-937d-4ca2-b010-823d0dbc5dcd",
   "metadata": {},
   "outputs": [
    {
     "data": {
      "text/plain": [
       "(11566, 22)"
      ]
     },
     "execution_count": 80,
     "metadata": {},
     "output_type": "execute_result"
    }
   ],
   "source": [
    "df.shape"
   ]
  },
  {
   "cell_type": "markdown",
   "id": "284b7212-63f5-452f-bea9-d49e9b11983f",
   "metadata": {},
   "source": [
    "### Calories - Target Variable"
   ]
  },
  {
   "cell_type": "code",
   "execution_count": 128,
   "id": "c9768fa9-5ee3-4571-a261-016aa7b354de",
   "metadata": {},
   "outputs": [],
   "source": [
    "#function for quick view of distribution\n",
    "def plot_distribution(data, bins=10, title='Distribution', ylabel='Count'):\n",
    "    plt.figure(figsize=(6, 4))\n",
    "    plt.hist(data, bins=bins, color='skyblue', edgecolor='black') #max calories value is 45000 so 45 bins\n",
    "    plt.title(title)\n",
    "    plt.ylabel(ylabel)\n",
    "    plt.grid(True)\n",
    "    plt.show()"
   ]
  },
  {
   "cell_type": "code",
   "execution_count": 134,
   "id": "ac3a10b6-2109-454e-865d-610c35a55205",
   "metadata": {},
   "outputs": [
    {
     "data": {
      "image/png": "[encoded data removed]",
      "text/plain": [
       "<Figure size 600x400 with 1 Axes>"
      ]
     },
     "metadata": {},
     "output_type": "display_data"
    }
   ],
   "source": [
    "# Assuming dfplot_distribution is your DataFrame and 'column_name' is the name of the column containing the float data\n",
    "calories_df = df['calories']\n",
    "\n",
    "plot_distribution(calories_df, bins=45, title='Distribution of Calories')"
   ]
  },
  {
   "cell_type": "markdown",
   "id": "8b985473-e026-4449-bb85-d2308d9394a0",
   "metadata": {},
   "source": [
    "Let's make this more reasonable to start with. Make the dataset only consider recipes with less than 2400 calories since that is normal, and counting calories is always error prone so going for ranges of 300 makes sense. "
   ]
  },
  {
   "cell_type": "code",
   "execution_count": 147,
   "id": "452a525b-86ae-4750-b5d4-2a1ada0c9630",
   "metadata": {},
   "outputs": [
    {
     "data": {
      "text/plain": [
       "(8573,)"
      ]
     },
     "execution_count": 147,
     "metadata": {},
     "output_type": "execute_result"
    }
   ],
   "source": [
    "def filter_calories_2400(df):\n",
    "    return df[df['calories'] < 2400]['calories']\n",
    "    \n",
    "calories_df_2400 = filter_calories_2400(df)\n",
    "calories_df_2400.shape"
   ]
  },
  {
   "cell_type": "code",
   "execution_count": 148,
   "id": "a157c85a-3379-4871-a300-61aa33064592",
   "metadata": {},
   "outputs": [
    {
     "data": {
      "image/png": "[encoded data removed]",
      "text/plain": [
       "<Figure size 600x400 with 1 Axes>"
      ]
     },
     "metadata": {},
     "output_type": "display_data"
    }
   ],
   "source": [
    "# Plotting histogram with no extreme values\n",
    "plot_distribution(calories_df_2400, bins=8, title='Distribution of Calories with Max 2400')"
   ]
  },
  {
   "cell_type": "markdown",
   "id": "4de5cdc2-f384-44ce-8361-a5f951cf8f72",
   "metadata": {},
   "source": [
    "The distribution looks normally distributed. Let's bin the calorie counts now."
   ]
  },
  {
   "cell_type": "code",
   "execution_count": 348,
   "id": "83e83751-d855-41e4-b7f9-ef23aa42dc91",
   "metadata": {},
   "outputs": [
    {
     "data": {
      "text/plain": [
       "0            0-299\n",
       "1          300-599\n",
       "2         900-1199\n",
       "3            0-299\n",
       "4            0-299\n",
       "           ...    \n",
       "13265          NaN\n",
       "13266      300-599\n",
       "13269    1500-1799\n",
       "13270      300-599\n",
       "13271      600-899\n",
       "Name: calories, Length: 11566, dtype: category\n",
       "Categories (8, object): ['0-299' < '300-599' < '600-899' < '900-1199' < '1200-1499' < '1500-1799' < '1800-2099' < '2100-2399']"
      ]
     },
     "execution_count": 348,
     "metadata": {},
     "output_type": "execute_result"
    }
   ],
   "source": [
    "#putting calories into ranges\n",
    "bin_edges = [i for i in range(0, 2401, 300)]\n",
    "labels = [f\"{bin_edges[i]}-{bin_edges[i+1]-1}\" for i in range(len(bin_edges)-1)]\n",
    "binned_calories = pd.cut(calories_df, bins=bin_edges, labels=labels, include_lowest=True)\n",
    "binned_calories"
   ]
  },
  {
   "cell_type": "code",
   "execution_count": 349,
   "id": "786f30ac-1f6f-4188-964e-c2c669f7fc13",
   "metadata": {},
   "outputs": [
    {
     "data": {
      "text/plain": [
       "2993"
      ]
     },
     "execution_count": 349,
     "metadata": {},
     "output_type": "execute_result"
    }
   ],
   "source": [
    "binned_calories.isna().sum()"
   ]
  },
  {
   "cell_type": "code",
   "execution_count": 350,
   "id": "c26d363f-6c86-4fb7-8864-9890580b53d4",
   "metadata": {},
   "outputs": [
    {
     "data": {
      "text/plain": [
       "Counter({nan: 2993,\n",
       "         '600-899': 1425,\n",
       "         '300-599': 1381,\n",
       "         '900-1199': 1269,\n",
       "         '1200-1499': 1190,\n",
       "         '1500-1799': 1002,\n",
       "         '1800-2099': 834,\n",
       "         '0-299': 780,\n",
       "         '2100-2399': 692})"
      ]
     },
     "execution_count": 350,
     "metadata": {},
     "output_type": "execute_result"
    }
   ],
   "source": [
    "Counter(binned_calories)"
   ]
  },
  {
   "cell_type": "code",
   "execution_count": 351,
   "id": "b0763f74-b0a6-4ad3-bc40-407b00e75806",
   "metadata": {},
   "outputs": [],
   "source": [
    "binned_calories.rename({'calories':'binnedCalories'}, inplace=True)"
   ]
  },
  {
   "cell_type": "code",
   "execution_count": 352,
   "id": "96550b2b-2d77-4426-b3be-12e411a1c7a7",
   "metadata": {},
   "outputs": [],
   "source": [
    "binned_calories = binned_calories.dropna()"
   ]
  },
  {
   "cell_type": "code",
   "execution_count": 372,
   "id": "78b985ca-bf31-4791-b2bc-2c550c53bbdd",
   "metadata": {},
   "outputs": [
    {
     "data": {
      "text/html": [
       "<div>\n",
       "<style scoped>\n",
       "    .dataframe tbody tr th:only-of-type {\n",
       "        vertical-align: middle;\n",
       "    }\n",
       "\n",
       "    .dataframe tbody tr th {\n",
       "        vertical-align: top;\n",
       "    }\n",
       "\n",
       "    .dataframe thead th {\n",
       "        text-align: right;\n",
       "    }\n",
       "</style>\n",
       "<table border=\"1\" class=\"dataframe\">\n",
       "  <thead>\n",
       "    <tr style=\"text-align: right;\">\n",
       "      <th></th>\n",
       "      <th>uri</th>\n",
       "      <th>label</th>\n",
       "      <th>image</th>\n",
       "      <th>source</th>\n",
       "      <th>url</th>\n",
       "      <th>shareAs</th>\n",
       "      <th>yield</th>\n",
       "      <th>dietLabels</th>\n",
       "      <th>healthLabels</th>\n",
       "      <th>cautions</th>\n",
       "      <th>...</th>\n",
       "      <th>totalWeight</th>\n",
       "      <th>totalTime</th>\n",
       "      <th>cuisineType</th>\n",
       "      <th>mealType</th>\n",
       "      <th>dishType</th>\n",
       "      <th>totalNutrients</th>\n",
       "      <th>totalDaily</th>\n",
       "      <th>digest</th>\n",
       "      <th>tags</th>\n",
       "      <th>calories</th>\n",
       "    </tr>\n",
       "  </thead>\n",
       "  <tbody>\n",
       "    <tr>\n",
       "      <th>0</th>\n",
       "      <td>http://www.edamam.com/ontologies/edamam.owl#re...</td>\n",
       "      <td>Green Beans</td>\n",
       "      <td>https://edamam-product-images.s3.amazonaws.com...</td>\n",
       "      <td>Martha Stewart</td>\n",
       "      <td>http://www.marthastewart.com/338543/green-beans</td>\n",
       "      <td>http://www.edamam.com/recipe/green-beans-a91ad...</td>\n",
       "      <td>4.0</td>\n",
       "      <td>[]</td>\n",
       "      <td>['Sugar-Conscious', 'Kidney-Friendly', 'Keto-F...</td>\n",
       "      <td>[]</td>\n",
       "      <td>...</td>\n",
       "      <td>471.932982</td>\n",
       "      <td>24.0</td>\n",
       "      <td>['american']</td>\n",
       "      <td>['lunch/dinner']</td>\n",
       "      <td>['main course']</td>\n",
       "      <td>{'ENERC_KCAL': {'label': 'Energy', 'quantity':...</td>\n",
       "      <td>{'ENERC_KCAL': {'label': 'Energy', 'quantity':...</td>\n",
       "      <td>[{'label': 'Fat', 'tag': 'FAT', 'schemaOrgTag'...</td>\n",
       "      <td>NaN</td>\n",
       "      <td>0-299</td>\n",
       "    </tr>\n",
       "    <tr>\n",
       "      <th>1</th>\n",
       "      <td>http://www.edamam.com/ontologies/edamam.owl#re...</td>\n",
       "      <td>Sauteed Green Beans</td>\n",
       "      <td>https://edamam-product-images.s3.amazonaws.com...</td>\n",
       "      <td>Epicurious</td>\n",
       "      <td>https://www.epicurious.com/recipes/food/views/...</td>\n",
       "      <td>http://www.edamam.com/recipe/sauteed-green-bea...</td>\n",
       "      <td>8.0</td>\n",
       "      <td>['Balanced', 'Low-Sodium']</td>\n",
       "      <td>['Sugar-Conscious', 'Kidney-Friendly', 'Keto-F...</td>\n",
       "      <td>[]</td>\n",
       "      <td>...</td>\n",
       "      <td>699.388555</td>\n",
       "      <td>0.0</td>\n",
       "      <td>['french']</td>\n",
       "      <td>['lunch/dinner']</td>\n",
       "      <td>['starter']</td>\n",
       "      <td>{'ENERC_KCAL': {'label': 'Energy', 'quantity':...</td>\n",
       "      <td>{'ENERC_KCAL': {'label': 'Energy', 'quantity':...</td>\n",
       "      <td>[{'label': 'Fat', 'tag': 'FAT', 'schemaOrgTag'...</td>\n",
       "      <td>['Vegetarian', 'Vegan', 'Quick &amp; Easy', 'Bean'...</td>\n",
       "      <td>300-599</td>\n",
       "    </tr>\n",
       "    <tr>\n",
       "      <th>2</th>\n",
       "      <td>http://www.edamam.com/ontologies/edamam.owl#re...</td>\n",
       "      <td>Caramelized Green Beans</td>\n",
       "      <td>https://edamam-product-images.s3.amazonaws.com...</td>\n",
       "      <td>Saveur</td>\n",
       "      <td>http://www.saveur.com/article/Recipes/Carameli...</td>\n",
       "      <td>http://www.edamam.com/recipe/caramelized-green...</td>\n",
       "      <td>6.0</td>\n",
       "      <td>['Low-Carb', 'Low-Sodium']</td>\n",
       "      <td>['Sugar-Conscious', 'Kidney-Friendly', 'Keto-F...</td>\n",
       "      <td>[]</td>\n",
       "      <td>...</td>\n",
       "      <td>793.988555</td>\n",
       "      <td>0.0</td>\n",
       "      <td>['american']</td>\n",
       "      <td>['lunch/dinner']</td>\n",
       "      <td>['main course']</td>\n",
       "      <td>{'ENERC_KCAL': {'label': 'Energy', 'quantity':...</td>\n",
       "      <td>{'ENERC_KCAL': {'label': 'Energy', 'quantity':...</td>\n",
       "      <td>[{'label': 'Fat', 'tag': 'FAT', 'schemaOrgTag'...</td>\n",
       "      <td>NaN</td>\n",
       "      <td>900-1199</td>\n",
       "    </tr>\n",
       "    <tr>\n",
       "      <th>3</th>\n",
       "      <td>http://www.edamam.com/ontologies/edamam.owl#re...</td>\n",
       "      <td>Sautéed Fresh Green Beans</td>\n",
       "      <td>https://edamam-product-images.s3.amazonaws.com...</td>\n",
       "      <td>EatingWell</td>\n",
       "      <td>http://www.eatingwell.com/recipe/261341/sautee...</td>\n",
       "      <td>http://www.edamam.com/recipe/saut%C3%A9ed-fres...</td>\n",
       "      <td>4.0</td>\n",
       "      <td>['Balanced', 'Low-Sodium']</td>\n",
       "      <td>['Sugar-Conscious', 'Kidney-Friendly', 'Keto-F...</td>\n",
       "      <td>[]</td>\n",
       "      <td>...</td>\n",
       "      <td>462.592370</td>\n",
       "      <td>5.0</td>\n",
       "      <td>['french']</td>\n",
       "      <td>['lunch/dinner']</td>\n",
       "      <td>['starter']</td>\n",
       "      <td>{'ENERC_KCAL': {'label': 'Energy', 'quantity':...</td>\n",
       "      <td>{'ENERC_KCAL': {'label': 'Energy', 'quantity':...</td>\n",
       "      <td>[{'label': 'Fat', 'tag': 'FAT', 'schemaOrgTag'...</td>\n",
       "      <td>['Gluten-Free', 'Low Fat', 'Vegan', 'High Fibe...</td>\n",
       "      <td>0-299</td>\n",
       "    </tr>\n",
       "    <tr>\n",
       "      <th>4</th>\n",
       "      <td>http://www.edamam.com/ontologies/edamam.owl#re...</td>\n",
       "      <td>Fancy Green Beans</td>\n",
       "      <td>https://edamam-product-images.s3.amazonaws.com...</td>\n",
       "      <td>PBS Food</td>\n",
       "      <td>http://www.pbs.org/food/recipes/fancy-green-be...</td>\n",
       "      <td>http://www.edamam.com/recipe/fancy-green-beans...</td>\n",
       "      <td>2.0</td>\n",
       "      <td>['Balanced', 'High-Fiber']</td>\n",
       "      <td>['Vegan', 'Vegetarian', 'Pescatarian', 'Dairy-...</td>\n",
       "      <td>['Sulfites', 'FODMAP']</td>\n",
       "      <td>...</td>\n",
       "      <td>472.898439</td>\n",
       "      <td>47.0</td>\n",
       "      <td>['american']</td>\n",
       "      <td>['lunch/dinner']</td>\n",
       "      <td>['main course']</td>\n",
       "      <td>{'ENERC_KCAL': {'label': 'Energy', 'quantity':...</td>\n",
       "      <td>{'ENERC_KCAL': {'label': 'Energy', 'quantity':...</td>\n",
       "      <td>[{'label': 'Fat', 'tag': 'FAT', 'schemaOrgTag'...</td>\n",
       "      <td>NaN</td>\n",
       "      <td>0-299</td>\n",
       "    </tr>\n",
       "  </tbody>\n",
       "</table>\n",
       "<p>5 rows × 23 columns</p>\n",
       "</div>"
      ],
      "text/plain": [
       "                                                 uri  \\\n",
       "0  http://www.edamam.com/ontologies/edamam.owl#re...   \n",
       "1  http://www.edamam.com/ontologies/edamam.owl#re...   \n",
       "2  http://www.edamam.com/ontologies/edamam.owl#re...   \n",
       "3  http://www.edamam.com/ontologies/edamam.owl#re...   \n",
       "4  http://www.edamam.com/ontologies/edamam.owl#re...   \n",
       "\n",
       "                       label  \\\n",
       "0                Green Beans   \n",
       "1        Sauteed Green Beans   \n",
       "2    Caramelized Green Beans   \n",
       "3  Sautéed Fresh Green Beans   \n",
       "4          Fancy Green Beans   \n",
       "\n",
       "                                               image          source  \\\n",
       "0  https://edamam-product-images.s3.amazonaws.com...  Martha Stewart   \n",
       "1  https://edamam-product-images.s3.amazonaws.com...      Epicurious   \n",
       "2  https://edamam-product-images.s3.amazonaws.com...          Saveur   \n",
       "3  https://edamam-product-images.s3.amazonaws.com...      EatingWell   \n",
       "4  https://edamam-product-images.s3.amazonaws.com...        PBS Food   \n",
       "\n",
       "                                                 url  \\\n",
       "0    http://www.marthastewart.com/338543/green-beans   \n",
       "1  https://www.epicurious.com/recipes/food/views/...   \n",
       "2  http://www.saveur.com/article/Recipes/Carameli...   \n",
       "3  http://www.eatingwell.com/recipe/261341/sautee...   \n",
       "4  http://www.pbs.org/food/recipes/fancy-green-be...   \n",
       "\n",
       "                                             shareAs  yield  \\\n",
       "0  http://www.edamam.com/recipe/green-beans-a91ad...    4.0   \n",
       "1  http://www.edamam.com/recipe/sauteed-green-bea...    8.0   \n",
       "2  http://www.edamam.com/recipe/caramelized-green...    6.0   \n",
       "3  http://www.edamam.com/recipe/saut%C3%A9ed-fres...    4.0   \n",
       "4  http://www.edamam.com/recipe/fancy-green-beans...    2.0   \n",
       "\n",
       "                   dietLabels  \\\n",
       "0                          []   \n",
       "1  ['Balanced', 'Low-Sodium']   \n",
       "2  ['Low-Carb', 'Low-Sodium']   \n",
       "3  ['Balanced', 'Low-Sodium']   \n",
       "4  ['Balanced', 'High-Fiber']   \n",
       "\n",
       "                                        healthLabels                cautions  \\\n",
       "0  ['Sugar-Conscious', 'Kidney-Friendly', 'Keto-F...                      []   \n",
       "1  ['Sugar-Conscious', 'Kidney-Friendly', 'Keto-F...                      []   \n",
       "2  ['Sugar-Conscious', 'Kidney-Friendly', 'Keto-F...                      []   \n",
       "3  ['Sugar-Conscious', 'Kidney-Friendly', 'Keto-F...                      []   \n",
       "4  ['Vegan', 'Vegetarian', 'Pescatarian', 'Dairy-...  ['Sulfites', 'FODMAP']   \n",
       "\n",
       "   ... totalWeight totalTime   cuisineType          mealType         dishType  \\\n",
       "0  ...  471.932982      24.0  ['american']  ['lunch/dinner']  ['main course']   \n",
       "1  ...  699.388555       0.0    ['french']  ['lunch/dinner']      ['starter']   \n",
       "2  ...  793.988555       0.0  ['american']  ['lunch/dinner']  ['main course']   \n",
       "3  ...  462.592370       5.0    ['french']  ['lunch/dinner']      ['starter']   \n",
       "4  ...  472.898439      47.0  ['american']  ['lunch/dinner']  ['main course']   \n",
       "\n",
       "                                      totalNutrients  \\\n",
       "0  {'ENERC_KCAL': {'label': 'Energy', 'quantity':...   \n",
       "1  {'ENERC_KCAL': {'label': 'Energy', 'quantity':...   \n",
       "2  {'ENERC_KCAL': {'label': 'Energy', 'quantity':...   \n",
       "3  {'ENERC_KCAL': {'label': 'Energy', 'quantity':...   \n",
       "4  {'ENERC_KCAL': {'label': 'Energy', 'quantity':...   \n",
       "\n",
       "                                          totalDaily  \\\n",
       "0  {'ENERC_KCAL': {'label': 'Energy', 'quantity':...   \n",
       "1  {'ENERC_KCAL': {'label': 'Energy', 'quantity':...   \n",
       "2  {'ENERC_KCAL': {'label': 'Energy', 'quantity':...   \n",
       "3  {'ENERC_KCAL': {'label': 'Energy', 'quantity':...   \n",
       "4  {'ENERC_KCAL': {'label': 'Energy', 'quantity':...   \n",
       "\n",
       "                                              digest  \\\n",
       "0  [{'label': 'Fat', 'tag': 'FAT', 'schemaOrgTag'...   \n",
       "1  [{'label': 'Fat', 'tag': 'FAT', 'schemaOrgTag'...   \n",
       "2  [{'label': 'Fat', 'tag': 'FAT', 'schemaOrgTag'...   \n",
       "3  [{'label': 'Fat', 'tag': 'FAT', 'schemaOrgTag'...   \n",
       "4  [{'label': 'Fat', 'tag': 'FAT', 'schemaOrgTag'...   \n",
       "\n",
       "                                                tags  calories  \n",
       "0                                                NaN     0-299  \n",
       "1  ['Vegetarian', 'Vegan', 'Quick & Easy', 'Bean'...   300-599  \n",
       "2                                                NaN  900-1199  \n",
       "3  ['Gluten-Free', 'Low Fat', 'Vegan', 'High Fibe...     0-299  \n",
       "4                                                NaN     0-299  \n",
       "\n",
       "[5 rows x 23 columns]"
      ]
     },
     "execution_count": 372,
     "metadata": {},
     "output_type": "execute_result"
    }
   ],
   "source": [
    "#get the full dataframe with these indices\n",
    "binned_calories_df = df.loc[binned_calories.index]\n",
    "binned_calories_df = pd.concat([binned_calories_df, binned_calories], axis = 1)\n",
    "binned_calories_df.head()"
   ]
  },
  {
   "cell_type": "code",
   "execution_count": 373,
   "id": "2adfda08-3f8f-44e2-8b75-1adcbe47a868",
   "metadata": {},
   "outputs": [
    {
     "data": {
      "text/plain": [
       "(8573, 24)"
      ]
     },
     "execution_count": 373,
     "metadata": {},
     "output_type": "execute_result"
    }
   ],
   "source": [
    "binned_calories_df.reset_index(inplace=True)\n",
    "binned_calories_df.shape"
   ]
  },
  {
   "cell_type": "code",
   "execution_count": 374,
   "id": "109db3db-20e3-4613-adba-d68b69614fef",
   "metadata": {},
   "outputs": [
    {
     "data": {
      "text/plain": [
       "Index(['index', 'uri', 'label', 'image', 'source', 'url', 'shareAs', 'yield',\n",
       "       'dietLabels', 'healthLabels', 'cautions', 'ingredientLines',\n",
       "       'ingredients', 'calories', 'totalWeight', 'totalTime', 'cuisineType',\n",
       "       'mealType', 'dishType', 'totalNutrients', 'totalDaily', 'digest',\n",
       "       'tags', 'calories'],\n",
       "      dtype='object')"
      ]
     },
     "execution_count": 374,
     "metadata": {},
     "output_type": "execute_result"
    }
   ],
   "source": [
    "binned_calories_df.columns"
   ]
  },
  {
   "cell_type": "markdown",
   "id": "33dc8800-181a-47e0-8c1f-6f2cff296783",
   "metadata": {},
   "source": [
    "Later we will probably do label encoding."
   ]
  },
  {
   "cell_type": "markdown",
   "id": "73a37970-aeb1-45cc-853d-8a7392572eaa",
   "metadata": {},
   "source": [
    "### Input Variables\n",
    "\n",
    "#### Label"
   ]
  },
  {
   "cell_type": "code",
   "execution_count": 357,
   "id": "04b8f3e1-7827-4dba-8d89-d764b741b7fa",
   "metadata": {},
   "outputs": [
    {
     "data": {
      "text/plain": [
       "0                     Green Beans\n",
       "1             Sauteed Green Beans\n",
       "2         Caramelized Green Beans\n",
       "3       Sautéed Fresh Green Beans\n",
       "4               Fancy Green Beans\n",
       "                  ...            \n",
       "8568                    Tuna Melt\n",
       "8569             Quick Tuna Salad\n",
       "8570         Savory Tuna Sandwich\n",
       "8571      Tiny Tuna Melts recipes\n",
       "8572         Mexi-Cali Tuna Salad\n",
       "Name: label, Length: 8573, dtype: object"
      ]
     },
     "execution_count": 357,
     "metadata": {},
     "output_type": "execute_result"
    }
   ],
   "source": [
    "binned_calories_df['label']"
   ]
  },
  {
   "cell_type": "markdown",
   "id": "d0c4876a-ce64-4166-98c4-fd564419b39c",
   "metadata": {},
   "source": [
    "Nothing to do here now. Will have to use NLP to preprocess."
   ]
  },
  {
   "cell_type": "markdown",
   "id": "e146a98c-d3db-4a0c-9612-de5d0784cc6d",
   "metadata": {},
   "source": [
    "#### dishType"
   ]
  },
  {
   "cell_type": "code",
   "execution_count": 358,
   "id": "ff4ae229-13db-42d6-b375-dd34e8e6f854",
   "metadata": {},
   "outputs": [],
   "source": [
    "dishType_df = binned_calories_df['dishType'].apply(ast.literal_eval)"
   ]
  },
  {
   "cell_type": "code",
   "execution_count": 359,
   "id": "ccb43dbd-d693-44fa-afd1-3ec2e92548d5",
   "metadata": {},
   "outputs": [],
   "source": [
    "#we have a few columns with list elements and we want to see the unqiue values so this function can do that\n",
    "def get_values(df, column):\n",
    "    df.loc[df[column].isna(), column] = '[]'\n",
    "    labels_lst = []\n",
    "    for label in df[column].apply(ast.literal_eval):\n",
    "        labels_lst += label\n",
    "    return labels_lst\n",
    "\n",
    "#this checks to see what recipes are multilabeled for the given column\n",
    "def check_if_multilabel(df, column):\n",
    "    lst = []\n",
    "    for row in df[column].apply(ast.literal_eval):\n",
    "        if len(row) > 1:\n",
    "            lst.append(row)\n",
    "    return lst"
   ]
  },
  {
   "cell_type": "code",
   "execution_count": 360,
   "id": "425559ae-316f-4bd5-8e26-3cf0ac6914ef",
   "metadata": {},
   "outputs": [
    {
     "data": {
      "text/plain": [
       "Counter({'main course': 2696,\n",
       "         'starter': 1519,\n",
       "         'condiments and sauces': 1041,\n",
       "         'salad': 905,\n",
       "         'desserts': 812,\n",
       "         'soup': 357,\n",
       "         'drinks': 347,\n",
       "         'sandwiches': 343,\n",
       "         'bread': 182,\n",
       "         'cereals': 182,\n",
       "         'alcohol cocktail': 152,\n",
       "         'biscuits and cookies': 62,\n",
       "         'pancake': 61,\n",
       "         'egg': 36,\n",
       "         'preserve': 11,\n",
       "         'omelet': 7,\n",
       "         'special occasions': 6,\n",
       "         'christmas': 4,\n",
       "         'preps': 3,\n",
       "         'thanksgiving': 1,\n",
       "         'cinco de mayo': 1})"
      ]
     },
     "execution_count": 360,
     "metadata": {},
     "output_type": "execute_result"
    }
   ],
   "source": [
    "from collections import Counter\n",
    "Counter(get_values(binned_calories_df, 'dishType'))"
   ]
  },
  {
   "cell_type": "code",
   "execution_count": 361,
   "id": "d7bab483-2705-42d8-9487-8bd10ab4d797",
   "metadata": {},
   "outputs": [
    {
     "name": "stdout",
     "output_type": "stream",
     "text": [
      "Number of unique dish types: 21\n"
     ]
    }
   ],
   "source": [
    "print('Number of unique dish types:', len(set(get_unique_values(binned_calories_df, 'dishType'))))"
   ]
  },
  {
   "cell_type": "code",
   "execution_count": 362,
   "id": "14dde66b-4609-422b-9fb5-485b5e103908",
   "metadata": {},
   "outputs": [
    {
     "data": {
      "text/plain": [
       "142"
      ]
     },
     "execution_count": 362,
     "metadata": {},
     "output_type": "execute_result"
    }
   ],
   "source": [
    "len(check_if_multilabel(binned_calories_df, 'dishType'))"
   ]
  },
  {
   "cell_type": "code",
   "execution_count": 363,
   "id": "72ded969-0c45-426b-afd7-a2c5cdde3b0d",
   "metadata": {},
   "outputs": [],
   "source": [
    "priority_list_dish_type = [\n",
    "    'main course',\n",
    "    'starter',\n",
    "    'salad',\n",
    "    'soup',\n",
    "    'drinks',\n",
    "    'bread',\n",
    "    'desserts',\n",
    "    'condiments and sauces',\n",
    "    'sandwiches',\n",
    "    'cereals',\n",
    "    'alcohol cocktail',\n",
    "    'biscuits and cookies',\n",
    "    'pancake',\n",
    "    'egg',\n",
    "    'preserve',\n",
    "    'omelet',\n",
    "    'special occasions',\n",
    "    'christmas',\n",
    "    'preps',\n",
    "    'thanksgiving',\n",
    "    'cinco de mayo'\n",
    "]"
   ]
  },
  {
   "cell_type": "code",
   "execution_count": 364,
   "id": "1d27637a-0851-4f9d-8795-3d5c176e41cc",
   "metadata": {},
   "outputs": [],
   "source": [
    "new_dish_type_df = []\n",
    "for dish_type_lst in dishType_df:\n",
    "    if len(dish_type_lst) == 1:\n",
    "        new_dish_type_df.append(dish_type_lst[0])\n",
    "    else:\n",
    "        for dish_type in priority_list_dish_type:\n",
    "            if dish_type in dish_type_lst:\n",
    "                new_dish_type_df.append(dish_type)\n",
    "                break"
   ]
  },
  {
   "cell_type": "code",
   "execution_count": 365,
   "id": "dc1cd31d-7fd4-4116-a66b-0bf236d82bed",
   "metadata": {},
   "outputs": [
    {
     "data": {
      "text/plain": [
       "Counter({'main course': 2696,\n",
       "         'starter': 1506,\n",
       "         'condiments and sauces': 1032,\n",
       "         'salad': 857,\n",
       "         'desserts': 804,\n",
       "         'drinks': 347,\n",
       "         'soup': 342,\n",
       "         'sandwiches': 337,\n",
       "         'bread': 182,\n",
       "         'cereals': 180,\n",
       "         'alcohol cocktail': 152,\n",
       "         'biscuits and cookies': 62,\n",
       "         'pancake': 61,\n",
       "         'preserve': 11,\n",
       "         'preps': 3,\n",
       "         'special occasions': 1})"
      ]
     },
     "execution_count": 365,
     "metadata": {},
     "output_type": "execute_result"
    }
   ],
   "source": [
    "Counter(new_dish_type_df)"
   ]
  },
  {
   "cell_type": "code",
   "execution_count": 366,
   "id": "7b4e9876-8abb-4d10-adfa-11bfa80d235c",
   "metadata": {},
   "outputs": [
    {
     "data": {
      "text/html": [
       "<div>\n",
       "<style scoped>\n",
       "    .dataframe tbody tr th:only-of-type {\n",
       "        vertical-align: middle;\n",
       "    }\n",
       "\n",
       "    .dataframe tbody tr th {\n",
       "        vertical-align: top;\n",
       "    }\n",
       "\n",
       "    .dataframe thead th {\n",
       "        text-align: right;\n",
       "    }\n",
       "</style>\n",
       "<table border=\"1\" class=\"dataframe\">\n",
       "  <thead>\n",
       "    <tr style=\"text-align: right;\">\n",
       "      <th></th>\n",
       "      <th>dishTypeLabel</th>\n",
       "    </tr>\n",
       "  </thead>\n",
       "  <tbody>\n",
       "    <tr>\n",
       "      <th>0</th>\n",
       "      <td>main course</td>\n",
       "    </tr>\n",
       "    <tr>\n",
       "      <th>1</th>\n",
       "      <td>starter</td>\n",
       "    </tr>\n",
       "    <tr>\n",
       "      <th>2</th>\n",
       "      <td>main course</td>\n",
       "    </tr>\n",
       "    <tr>\n",
       "      <th>3</th>\n",
       "      <td>starter</td>\n",
       "    </tr>\n",
       "    <tr>\n",
       "      <th>4</th>\n",
       "      <td>main course</td>\n",
       "    </tr>\n",
       "  </tbody>\n",
       "</table>\n",
       "</div>"
      ],
      "text/plain": [
       "  dishTypeLabel\n",
       "0   main course\n",
       "1       starter\n",
       "2   main course\n",
       "3       starter\n",
       "4   main course"
      ]
     },
     "execution_count": 366,
     "metadata": {},
     "output_type": "execute_result"
    }
   ],
   "source": [
    "new_dish_type_df = pd.DataFrame(new_dish_type_df)\n",
    "new_dish_type_df.rename(columns={0: 'dishTypeLabel'}, inplace=True)\n",
    "new_dish_type_df.head()"
   ]
  },
  {
   "cell_type": "code",
   "execution_count": 367,
   "id": "e90e07aa-4322-45c5-8edd-85033b42905b",
   "metadata": {},
   "outputs": [
    {
     "data": {
      "text/plain": [
       "Index(['index', 'uri', 'label', 'image', 'source', 'url', 'shareAs', 'yield',\n",
       "       'dietLabels', 'healthLabels', 'cautions', 'ingredientLines',\n",
       "       'ingredients', 'calories', 'totalWeight', 'totalTime', 'cuisineType',\n",
       "       'mealType', 'dishType', 'totalNutrients', 'totalDaily', 'digest',\n",
       "       'tags', 'calories', 'dishTypeLabel'],\n",
       "      dtype='object')"
      ]
     },
     "execution_count": 367,
     "metadata": {},
     "output_type": "execute_result"
    }
   ],
   "source": [
    "df2 = pd.concat([binned_calories_df, new_dish_type_df], axis=1)\n",
    "df2.columns"
   ]
  },
  {
   "cell_type": "code",
   "execution_count": 368,
   "id": "9e18b227-068a-48c1-9080-6e265da2fad2",
   "metadata": {},
   "outputs": [],
   "source": [
    "main_course_df = df2[df2['dishTypeLabel'] == df2['dishTypeLabel'][0]]"
   ]
  },
  {
   "cell_type": "code",
   "execution_count": 371,
   "id": "96d94a01-b37f-4cb2-892e-2eb12732c21e",
   "metadata": {},
   "outputs": [
    {
     "data": {
      "text/html": [
       "<div>\n",
       "<style scoped>\n",
       "    .dataframe tbody tr th:only-of-type {\n",
       "        vertical-align: middle;\n",
       "    }\n",
       "\n",
       "    .dataframe tbody tr th {\n",
       "        vertical-align: top;\n",
       "    }\n",
       "\n",
       "    .dataframe thead th {\n",
       "        text-align: right;\n",
       "    }\n",
       "</style>\n",
       "<table border=\"1\" class=\"dataframe\">\n",
       "  <thead>\n",
       "    <tr style=\"text-align: right;\">\n",
       "      <th></th>\n",
       "      <th>calories</th>\n",
       "      <th>calories</th>\n",
       "    </tr>\n",
       "  </thead>\n",
       "  <tbody>\n",
       "    <tr>\n",
       "      <th>0</th>\n",
       "      <td>245.950111</td>\n",
       "      <td>0-299</td>\n",
       "    </tr>\n",
       "    <tr>\n",
       "      <th>2</th>\n",
       "      <td>1025.432452</td>\n",
       "      <td>900-1199</td>\n",
       "    </tr>\n",
       "    <tr>\n",
       "      <th>4</th>\n",
       "      <td>245.191312</td>\n",
       "      <td>0-299</td>\n",
       "    </tr>\n",
       "    <tr>\n",
       "      <th>6</th>\n",
       "      <td>259.953635</td>\n",
       "      <td>0-299</td>\n",
       "    </tr>\n",
       "    <tr>\n",
       "      <th>9</th>\n",
       "      <td>465.562019</td>\n",
       "      <td>300-599</td>\n",
       "    </tr>\n",
       "    <tr>\n",
       "      <th>...</th>\n",
       "      <td>...</td>\n",
       "      <td>...</td>\n",
       "    </tr>\n",
       "    <tr>\n",
       "      <th>8553</th>\n",
       "      <td>967.593819</td>\n",
       "      <td>900-1199</td>\n",
       "    </tr>\n",
       "    <tr>\n",
       "      <th>8556</th>\n",
       "      <td>960.772683</td>\n",
       "      <td>900-1199</td>\n",
       "    </tr>\n",
       "    <tr>\n",
       "      <th>8564</th>\n",
       "      <td>1338.023435</td>\n",
       "      <td>1200-1499</td>\n",
       "    </tr>\n",
       "    <tr>\n",
       "      <th>8565</th>\n",
       "      <td>1944.588333</td>\n",
       "      <td>1800-2099</td>\n",
       "    </tr>\n",
       "    <tr>\n",
       "      <th>8567</th>\n",
       "      <td>1445.589062</td>\n",
       "      <td>1200-1499</td>\n",
       "    </tr>\n",
       "  </tbody>\n",
       "</table>\n",
       "<p>2696 rows × 2 columns</p>\n",
       "</div>"
      ],
      "text/plain": [
       "         calories   calories\n",
       "0      245.950111      0-299\n",
       "2     1025.432452   900-1199\n",
       "4      245.191312      0-299\n",
       "6      259.953635      0-299\n",
       "9      465.562019    300-599\n",
       "...           ...        ...\n",
       "8553   967.593819   900-1199\n",
       "8556   960.772683   900-1199\n",
       "8564  1338.023435  1200-1499\n",
       "8565  1944.588333  1800-2099\n",
       "8567  1445.589062  1200-1499\n",
       "\n",
       "[2696 rows x 2 columns]"
      ]
     },
     "execution_count": 371,
     "metadata": {},
     "output_type": "execute_result"
    }
   ],
   "source": [
    "main_course_df['calories']"
   ]
  },
  {
   "cell_type": "code",
   "execution_count": 370,
   "id": "e268afe7-08c2-4ca0-85ed-2a367893c649",
   "metadata": {},
   "outputs": [
    {
     "ename": "TypeError",
     "evalue": "Invalid comparison between dtype=category and int",
     "output_type": "error",
     "traceback": [
      "\u001b[1;31m---------------------------------------------------------------------------\u001b[0m",
      "\u001b[1;31mTypeError\u001b[0m                                 Traceback (most recent call last)",
      "Cell \u001b[1;32mIn[370], line 1\u001b[0m\n\u001b[1;32m----> 1\u001b[0m main_course_df_2400 \u001b[38;5;241m=\u001b[39m \u001b[43mfilter_calories_2400\u001b[49m\u001b[43m(\u001b[49m\u001b[43mmain_course_df\u001b[49m\u001b[43m)\u001b[49m\n\u001b[0;32m      2\u001b[0m plot_distribution(main_course_df_2400, bins\u001b[38;5;241m=\u001b[39m\u001b[38;5;241m24\u001b[39m, title\u001b[38;5;241m=\u001b[39m\u001b[38;5;124m'\u001b[39m\u001b[38;5;124mDistribution of Calories for main_course\u001b[39m\u001b[38;5;124m'\u001b[39m)\n",
      "Cell \u001b[1;32mIn[147], line 2\u001b[0m, in \u001b[0;36mfilter_calories_2400\u001b[1;34m(df)\u001b[0m\n\u001b[0;32m      1\u001b[0m \u001b[38;5;28;01mdef\u001b[39;00m \u001b[38;5;21mfilter_calories_2400\u001b[39m(df):\n\u001b[1;32m----> 2\u001b[0m     \u001b[38;5;28;01mreturn\u001b[39;00m df[\u001b[43mdf\u001b[49m\u001b[43m[\u001b[49m\u001b[38;5;124;43m'\u001b[39;49m\u001b[38;5;124;43mcalories\u001b[39;49m\u001b[38;5;124;43m'\u001b[39;49m\u001b[43m]\u001b[49m\u001b[43m \u001b[49m\u001b[38;5;241;43m<\u001b[39;49m\u001b[43m \u001b[49m\u001b[38;5;241;43m2400\u001b[39;49m][\u001b[38;5;124m'\u001b[39m\u001b[38;5;124mcalories\u001b[39m\u001b[38;5;124m'\u001b[39m]\n",
      "File \u001b[1;32m~\\anaconda3\\envs\\edamam\\Lib\\site-packages\\pandas\\core\\ops\\common.py:76\u001b[0m, in \u001b[0;36m_unpack_zerodim_and_defer.<locals>.new_method\u001b[1;34m(self, other)\u001b[0m\n\u001b[0;32m     72\u001b[0m             \u001b[38;5;28;01mreturn\u001b[39;00m \u001b[38;5;28mNotImplemented\u001b[39m\n\u001b[0;32m     74\u001b[0m other \u001b[38;5;241m=\u001b[39m item_from_zerodim(other)\n\u001b[1;32m---> 76\u001b[0m \u001b[38;5;28;01mreturn\u001b[39;00m \u001b[43mmethod\u001b[49m\u001b[43m(\u001b[49m\u001b[38;5;28;43mself\u001b[39;49m\u001b[43m,\u001b[49m\u001b[43m \u001b[49m\u001b[43mother\u001b[49m\u001b[43m)\u001b[49m\n",
      "File \u001b[1;32m~\\anaconda3\\envs\\edamam\\Lib\\site-packages\\pandas\\core\\arraylike.py:48\u001b[0m, in \u001b[0;36mOpsMixin.__lt__\u001b[1;34m(self, other)\u001b[0m\n\u001b[0;32m     46\u001b[0m \u001b[38;5;129m@unpack_zerodim_and_defer\u001b[39m(\u001b[38;5;124m\"\u001b[39m\u001b[38;5;124m__lt__\u001b[39m\u001b[38;5;124m\"\u001b[39m)\n\u001b[0;32m     47\u001b[0m \u001b[38;5;28;01mdef\u001b[39;00m \u001b[38;5;21m__lt__\u001b[39m(\u001b[38;5;28mself\u001b[39m, other):\n\u001b[1;32m---> 48\u001b[0m     \u001b[38;5;28;01mreturn\u001b[39;00m \u001b[38;5;28;43mself\u001b[39;49m\u001b[38;5;241;43m.\u001b[39;49m\u001b[43m_cmp_method\u001b[49m\u001b[43m(\u001b[49m\u001b[43mother\u001b[49m\u001b[43m,\u001b[49m\u001b[43m \u001b[49m\u001b[43moperator\u001b[49m\u001b[38;5;241;43m.\u001b[39;49m\u001b[43mlt\u001b[49m\u001b[43m)\u001b[49m\n",
      "File \u001b[1;32m~\\anaconda3\\envs\\edamam\\Lib\\site-packages\\pandas\\core\\frame.py:7884\u001b[0m, in \u001b[0;36mDataFrame._cmp_method\u001b[1;34m(self, other, op)\u001b[0m\n\u001b[0;32m   7881\u001b[0m \u001b[38;5;28mself\u001b[39m, other \u001b[38;5;241m=\u001b[39m \u001b[38;5;28mself\u001b[39m\u001b[38;5;241m.\u001b[39m_align_for_op(other, axis, flex\u001b[38;5;241m=\u001b[39m\u001b[38;5;28;01mFalse\u001b[39;00m, level\u001b[38;5;241m=\u001b[39m\u001b[38;5;28;01mNone\u001b[39;00m)\n\u001b[0;32m   7883\u001b[0m \u001b[38;5;66;03m# See GH#4537 for discussion of scalar op behavior\u001b[39;00m\n\u001b[1;32m-> 7884\u001b[0m new_data \u001b[38;5;241m=\u001b[39m \u001b[38;5;28;43mself\u001b[39;49m\u001b[38;5;241;43m.\u001b[39;49m\u001b[43m_dispatch_frame_op\u001b[49m\u001b[43m(\u001b[49m\u001b[43mother\u001b[49m\u001b[43m,\u001b[49m\u001b[43m \u001b[49m\u001b[43mop\u001b[49m\u001b[43m,\u001b[49m\u001b[43m \u001b[49m\u001b[43maxis\u001b[49m\u001b[38;5;241;43m=\u001b[39;49m\u001b[43maxis\u001b[49m\u001b[43m)\u001b[49m\n\u001b[0;32m   7885\u001b[0m \u001b[38;5;28;01mreturn\u001b[39;00m \u001b[38;5;28mself\u001b[39m\u001b[38;5;241m.\u001b[39m_construct_result(new_data)\n",
      "File \u001b[1;32m~\\anaconda3\\envs\\edamam\\Lib\\site-packages\\pandas\\core\\frame.py:7929\u001b[0m, in \u001b[0;36mDataFrame._dispatch_frame_op\u001b[1;34m(self, right, func, axis)\u001b[0m\n\u001b[0;32m   7926\u001b[0m right \u001b[38;5;241m=\u001b[39m lib\u001b[38;5;241m.\u001b[39mitem_from_zerodim(right)\n\u001b[0;32m   7927\u001b[0m \u001b[38;5;28;01mif\u001b[39;00m \u001b[38;5;129;01mnot\u001b[39;00m is_list_like(right):\n\u001b[0;32m   7928\u001b[0m     \u001b[38;5;66;03m# i.e. scalar, faster than checking np.ndim(right) == 0\u001b[39;00m\n\u001b[1;32m-> 7929\u001b[0m     bm \u001b[38;5;241m=\u001b[39m \u001b[38;5;28;43mself\u001b[39;49m\u001b[38;5;241;43m.\u001b[39;49m\u001b[43m_mgr\u001b[49m\u001b[38;5;241;43m.\u001b[39;49m\u001b[43mapply\u001b[49m\u001b[43m(\u001b[49m\u001b[43marray_op\u001b[49m\u001b[43m,\u001b[49m\u001b[43m \u001b[49m\u001b[43mright\u001b[49m\u001b[38;5;241;43m=\u001b[39;49m\u001b[43mright\u001b[49m\u001b[43m)\u001b[49m\n\u001b[0;32m   7930\u001b[0m     \u001b[38;5;28;01mreturn\u001b[39;00m \u001b[38;5;28mself\u001b[39m\u001b[38;5;241m.\u001b[39m_constructor_from_mgr(bm, axes\u001b[38;5;241m=\u001b[39mbm\u001b[38;5;241m.\u001b[39maxes)\n\u001b[0;32m   7932\u001b[0m \u001b[38;5;28;01melif\u001b[39;00m \u001b[38;5;28misinstance\u001b[39m(right, DataFrame):\n",
      "File \u001b[1;32m~\\anaconda3\\envs\\edamam\\Lib\\site-packages\\pandas\\core\\internals\\managers.py:362\u001b[0m, in \u001b[0;36mBaseBlockManager.apply\u001b[1;34m(self, f, align_keys, **kwargs)\u001b[0m\n\u001b[0;32m    359\u001b[0m             kwargs[k] \u001b[38;5;241m=\u001b[39m obj[b\u001b[38;5;241m.\u001b[39mmgr_locs\u001b[38;5;241m.\u001b[39mindexer]\n\u001b[0;32m    361\u001b[0m \u001b[38;5;28;01mif\u001b[39;00m \u001b[38;5;28mcallable\u001b[39m(f):\n\u001b[1;32m--> 362\u001b[0m     applied \u001b[38;5;241m=\u001b[39m \u001b[43mb\u001b[49m\u001b[38;5;241;43m.\u001b[39;49m\u001b[43mapply\u001b[49m\u001b[43m(\u001b[49m\u001b[43mf\u001b[49m\u001b[43m,\u001b[49m\u001b[43m \u001b[49m\u001b[38;5;241;43m*\u001b[39;49m\u001b[38;5;241;43m*\u001b[39;49m\u001b[43mkwargs\u001b[49m\u001b[43m)\u001b[49m\n\u001b[0;32m    363\u001b[0m \u001b[38;5;28;01melse\u001b[39;00m:\n\u001b[0;32m    364\u001b[0m     applied \u001b[38;5;241m=\u001b[39m \u001b[38;5;28mgetattr\u001b[39m(b, f)(\u001b[38;5;241m*\u001b[39m\u001b[38;5;241m*\u001b[39mkwargs)\n",
      "File \u001b[1;32m~\\anaconda3\\envs\\edamam\\Lib\\site-packages\\pandas\\core\\internals\\blocks.py:393\u001b[0m, in \u001b[0;36mBlock.apply\u001b[1;34m(self, func, **kwargs)\u001b[0m\n\u001b[0;32m    387\u001b[0m \u001b[38;5;129m@final\u001b[39m\n\u001b[0;32m    388\u001b[0m \u001b[38;5;28;01mdef\u001b[39;00m \u001b[38;5;21mapply\u001b[39m(\u001b[38;5;28mself\u001b[39m, func, \u001b[38;5;241m*\u001b[39m\u001b[38;5;241m*\u001b[39mkwargs) \u001b[38;5;241m-\u001b[39m\u001b[38;5;241m>\u001b[39m \u001b[38;5;28mlist\u001b[39m[Block]:\n\u001b[0;32m    389\u001b[0m \u001b[38;5;250m    \u001b[39m\u001b[38;5;124;03m\"\"\"\u001b[39;00m\n\u001b[0;32m    390\u001b[0m \u001b[38;5;124;03m    apply the function to my values; return a block if we are not\u001b[39;00m\n\u001b[0;32m    391\u001b[0m \u001b[38;5;124;03m    one\u001b[39;00m\n\u001b[0;32m    392\u001b[0m \u001b[38;5;124;03m    \"\"\"\u001b[39;00m\n\u001b[1;32m--> 393\u001b[0m     result \u001b[38;5;241m=\u001b[39m \u001b[43mfunc\u001b[49m\u001b[43m(\u001b[49m\u001b[38;5;28;43mself\u001b[39;49m\u001b[38;5;241;43m.\u001b[39;49m\u001b[43mvalues\u001b[49m\u001b[43m,\u001b[49m\u001b[43m \u001b[49m\u001b[38;5;241;43m*\u001b[39;49m\u001b[38;5;241;43m*\u001b[39;49m\u001b[43mkwargs\u001b[49m\u001b[43m)\u001b[49m\n\u001b[0;32m    395\u001b[0m     result \u001b[38;5;241m=\u001b[39m maybe_coerce_values(result)\n\u001b[0;32m    396\u001b[0m     \u001b[38;5;28;01mreturn\u001b[39;00m \u001b[38;5;28mself\u001b[39m\u001b[38;5;241m.\u001b[39m_split_op_result(result)\n",
      "File \u001b[1;32m~\\anaconda3\\envs\\edamam\\Lib\\site-packages\\pandas\\core\\ops\\array_ops.py:330\u001b[0m, in \u001b[0;36mcomparison_op\u001b[1;34m(left, right, op)\u001b[0m\n\u001b[0;32m    321\u001b[0m         \u001b[38;5;28;01mraise\u001b[39;00m \u001b[38;5;167;01mValueError\u001b[39;00m(\n\u001b[0;32m    322\u001b[0m             \u001b[38;5;124m\"\u001b[39m\u001b[38;5;124mLengths must match to compare\u001b[39m\u001b[38;5;124m\"\u001b[39m, lvalues\u001b[38;5;241m.\u001b[39mshape, rvalues\u001b[38;5;241m.\u001b[39mshape\n\u001b[0;32m    323\u001b[0m         )\n\u001b[0;32m    325\u001b[0m \u001b[38;5;28;01mif\u001b[39;00m should_extension_dispatch(lvalues, rvalues) \u001b[38;5;129;01mor\u001b[39;00m (\n\u001b[0;32m    326\u001b[0m     (\u001b[38;5;28misinstance\u001b[39m(rvalues, (Timedelta, BaseOffset, Timestamp)) \u001b[38;5;129;01mor\u001b[39;00m right \u001b[38;5;129;01mis\u001b[39;00m NaT)\n\u001b[0;32m    327\u001b[0m     \u001b[38;5;129;01mand\u001b[39;00m lvalues\u001b[38;5;241m.\u001b[39mdtype \u001b[38;5;241m!=\u001b[39m \u001b[38;5;28mobject\u001b[39m\n\u001b[0;32m    328\u001b[0m ):\n\u001b[0;32m    329\u001b[0m     \u001b[38;5;66;03m# Call the method on lvalues\u001b[39;00m\n\u001b[1;32m--> 330\u001b[0m     res_values \u001b[38;5;241m=\u001b[39m op(lvalues, rvalues)\n\u001b[0;32m    332\u001b[0m \u001b[38;5;28;01melif\u001b[39;00m is_scalar(rvalues) \u001b[38;5;129;01mand\u001b[39;00m isna(rvalues):  \u001b[38;5;66;03m# TODO: but not pd.NA?\u001b[39;00m\n\u001b[0;32m    333\u001b[0m     \u001b[38;5;66;03m# numpy does not like comparisons vs None\u001b[39;00m\n\u001b[0;32m    334\u001b[0m     \u001b[38;5;28;01mif\u001b[39;00m op \u001b[38;5;129;01mis\u001b[39;00m operator\u001b[38;5;241m.\u001b[39mne:\n",
      "File \u001b[1;32m~\\anaconda3\\envs\\edamam\\Lib\\site-packages\\pandas\\core\\ops\\common.py:76\u001b[0m, in \u001b[0;36m_unpack_zerodim_and_defer.<locals>.new_method\u001b[1;34m(self, other)\u001b[0m\n\u001b[0;32m     72\u001b[0m             \u001b[38;5;28;01mreturn\u001b[39;00m \u001b[38;5;28mNotImplemented\u001b[39m\n\u001b[0;32m     74\u001b[0m other \u001b[38;5;241m=\u001b[39m item_from_zerodim(other)\n\u001b[1;32m---> 76\u001b[0m \u001b[38;5;28;01mreturn\u001b[39;00m \u001b[43mmethod\u001b[49m\u001b[43m(\u001b[49m\u001b[38;5;28;43mself\u001b[39;49m\u001b[43m,\u001b[49m\u001b[43m \u001b[49m\u001b[43mother\u001b[49m\u001b[43m)\u001b[49m\n",
      "File \u001b[1;32m~\\anaconda3\\envs\\edamam\\Lib\\site-packages\\pandas\\core\\arrays\\categorical.py:173\u001b[0m, in \u001b[0;36m_cat_compare_op.<locals>.func\u001b[1;34m(self, other)\u001b[0m\n\u001b[0;32m    171\u001b[0m         \u001b[38;5;28;01mreturn\u001b[39;00m ret\n\u001b[0;32m    172\u001b[0m     \u001b[38;5;28;01melse\u001b[39;00m:\n\u001b[1;32m--> 173\u001b[0m         \u001b[38;5;28;01mreturn\u001b[39;00m \u001b[43mops\u001b[49m\u001b[38;5;241;43m.\u001b[39;49m\u001b[43minvalid_comparison\u001b[49m\u001b[43m(\u001b[49m\u001b[38;5;28;43mself\u001b[39;49m\u001b[43m,\u001b[49m\u001b[43m \u001b[49m\u001b[43mother\u001b[49m\u001b[43m,\u001b[49m\u001b[43m \u001b[49m\u001b[43mop\u001b[49m\u001b[43m)\u001b[49m\n\u001b[0;32m    174\u001b[0m \u001b[38;5;28;01melse\u001b[39;00m:\n\u001b[0;32m    175\u001b[0m     \u001b[38;5;66;03m# allow categorical vs object dtype array comparisons for equality\u001b[39;00m\n\u001b[0;32m    176\u001b[0m     \u001b[38;5;66;03m# these are only positional comparisons\u001b[39;00m\n\u001b[0;32m    177\u001b[0m     \u001b[38;5;28;01mif\u001b[39;00m opname \u001b[38;5;129;01mnot\u001b[39;00m \u001b[38;5;129;01min\u001b[39;00m [\u001b[38;5;124m\"\u001b[39m\u001b[38;5;124m__eq__\u001b[39m\u001b[38;5;124m\"\u001b[39m, \u001b[38;5;124m\"\u001b[39m\u001b[38;5;124m__ne__\u001b[39m\u001b[38;5;124m\"\u001b[39m]:\n",
      "File \u001b[1;32m~\\anaconda3\\envs\\edamam\\Lib\\site-packages\\pandas\\core\\ops\\invalid.py:40\u001b[0m, in \u001b[0;36minvalid_comparison\u001b[1;34m(left, right, op)\u001b[0m\n\u001b[0;32m     38\u001b[0m \u001b[38;5;28;01melse\u001b[39;00m:\n\u001b[0;32m     39\u001b[0m     typ \u001b[38;5;241m=\u001b[39m \u001b[38;5;28mtype\u001b[39m(right)\u001b[38;5;241m.\u001b[39m\u001b[38;5;18m__name__\u001b[39m\n\u001b[1;32m---> 40\u001b[0m     \u001b[38;5;28;01mraise\u001b[39;00m \u001b[38;5;167;01mTypeError\u001b[39;00m(\u001b[38;5;124mf\u001b[39m\u001b[38;5;124m\"\u001b[39m\u001b[38;5;124mInvalid comparison between dtype=\u001b[39m\u001b[38;5;132;01m{\u001b[39;00mleft\u001b[38;5;241m.\u001b[39mdtype\u001b[38;5;132;01m}\u001b[39;00m\u001b[38;5;124m and \u001b[39m\u001b[38;5;132;01m{\u001b[39;00mtyp\u001b[38;5;132;01m}\u001b[39;00m\u001b[38;5;124m\"\u001b[39m)\n\u001b[0;32m     41\u001b[0m \u001b[38;5;28;01mreturn\u001b[39;00m res_values\n",
      "\u001b[1;31mTypeError\u001b[0m: Invalid comparison between dtype=category and int"
     ]
    }
   ],
   "source": [
    "main_course_df_2400 = filter_calories_2400(main_course_df)\n",
    "plot_distribution(main_course_df_2400, bins=24, title='Distribution of Calories for main_course')"
   ]
  },
  {
   "cell_type": "markdown",
   "id": "0a3560ab-1728-41e0-bb8d-89693e333698",
   "metadata": {},
   "source": [
    "#### mealType"
   ]
  },
  {
   "cell_type": "code",
   "execution_count": 235,
   "id": "55df811e-f2dc-4a56-8d38-e2d80ea7bbd8",
   "metadata": {},
   "outputs": [
    {
     "data": {
      "text/plain": [
       "{'breakfast', 'brunch', 'lunch/dinner', 'snack', 'teatime'}"
      ]
     },
     "execution_count": 235,
     "metadata": {},
     "output_type": "execute_result"
    }
   ],
   "source": [
    "set(get_values(binned_calories_df, 'mealType'))"
   ]
  },
  {
   "cell_type": "code",
   "execution_count": 236,
   "id": "e4fe43f8-ad95-452e-af68-18dc1cfac26a",
   "metadata": {},
   "outputs": [
    {
     "data": {
      "text/plain": [
       "Counter({'lunch/dinner': 7365,\n",
       "         'breakfast': 699,\n",
       "         'snack': 327,\n",
       "         'brunch': 115,\n",
       "         'teatime': 94})"
      ]
     },
     "execution_count": 236,
     "metadata": {},
     "output_type": "execute_result"
    }
   ],
   "source": [
    "Counter(get_values(binned_calories_df, 'mealType'))"
   ]
  },
  {
   "cell_type": "code",
   "execution_count": 237,
   "id": "d82c189b-caff-4c1a-9850-bd59ce11f3a4",
   "metadata": {},
   "outputs": [
    {
     "data": {
      "text/plain": [
       "27"
      ]
     },
     "execution_count": 237,
     "metadata": {},
     "output_type": "execute_result"
    }
   ],
   "source": [
    "len(check_if_multilabel(binned_calories_df, 'mealType'))"
   ]
  },
  {
   "cell_type": "code",
   "execution_count": 238,
   "id": "2e4e927e-928b-47da-90f6-ba3566670c11",
   "metadata": {},
   "outputs": [],
   "source": [
    "mealType_df = binned_calories_df['mealType'].apply(ast.literal_eval)"
   ]
  },
  {
   "cell_type": "markdown",
   "id": "e7af7a3a-545d-466a-8c21-da60e61f75df",
   "metadata": {},
   "source": [
    "Let's explore the calorie distribution for each of these meal types and see if we can combine any of them."
   ]
  },
  {
   "cell_type": "code",
   "execution_count": 242,
   "id": "f2b4026e-7f58-48eb-a1ad-856a06370d24",
   "metadata": {},
   "outputs": [],
   "source": [
    "brunch_df = df[df['mealType'] == \"['brunch']\"]\n",
    "breakfast_df = df[df['mealType'] == \"['breakfast']\"]\n",
    "teatime_df = df[df['mealType'] == \"['teatime']\"]\n",
    "snack_df = df[df['mealType'] == \"['snack']\"]\n",
    "lunchdinner_df = df[df['mealType'] == \"['lunch/dinner']\"]"
   ]
  },
  {
   "cell_type": "code",
   "execution_count": 243,
   "id": "d295a8d3-958e-4966-806f-97baf3db8b45",
   "metadata": {},
   "outputs": [
    {
     "data": {
      "image/png": "[encoded data removed]",
      "text/plain": [
       "<Figure size 600x400 with 1 Axes>"
      ]
     },
     "metadata": {},
     "output_type": "display_data"
    }
   ],
   "source": [
    "lunchdinner_df_2400 = filter_calories_2400(lunchdinner_df)\n",
    "plot_distribution(lunchdinner_df_2400, bins=24, title='Distribution of Calories for lunchdinner')"
   ]
  },
  {
   "cell_type": "code",
   "execution_count": 157,
   "id": "4ae6b5d5-c59d-4e98-a8c7-e4c528fb61cd",
   "metadata": {},
   "outputs": [
    {
     "data": {
      "image/png": "[encoded data removed]",
      "text/plain": [
       "<Figure size 600x400 with 1 Axes>"
      ]
     },
     "metadata": {},
     "output_type": "display_data"
    }
   ],
   "source": [
    "breakfast_df_2400 = filter_calories_2400(breakfast_df)\n",
    "plot_distribution(breakfast_df_2400, bins=24, title='Distribution of Calories for Breakfast')"
   ]
  },
  {
   "cell_type": "code",
   "execution_count": 158,
   "id": "08fa112d-b9ef-490f-8d9b-e38068e9815f",
   "metadata": {},
   "outputs": [
    {
     "data": {
      "image/png": "[encoded data removed]",
      "text/plain": [
       "<Figure size 600x400 with 1 Axes>"
      ]
     },
     "metadata": {},
     "output_type": "display_data"
    }
   ],
   "source": [
    "brunch_df_2400 = filter_calories_2400(brunch_df)\n",
    "plot_distribution(brunch_df_2400, bins=24, title='Distribution of Calories for Brunch')"
   ]
  },
  {
   "cell_type": "code",
   "execution_count": 156,
   "id": "60a67c4d-ba51-4967-8cef-3a12b13606d2",
   "metadata": {},
   "outputs": [
    {
     "data": {
      "image/png": "[encoded data removed]",
      "text/plain": [
       "<Figure size 600x400 with 1 Axes>"
      ]
     },
     "metadata": {},
     "output_type": "display_data"
    }
   ],
   "source": [
    "teatime_df_2400 = filter_calories_2400(teatime_df)\n",
    "plot_distribution(teatime_df_2400, bins=24, title='Distribution of Calories for teatime')"
   ]
  },
  {
   "cell_type": "code",
   "execution_count": 155,
   "id": "335e3638-b20f-4155-811f-83d84cbe12fe",
   "metadata": {},
   "outputs": [
    {
     "data": {
      "image/png": "[encoded data removed]",
      "text/plain": [
       "<Figure size 600x400 with 1 Axes>"
      ]
     },
     "metadata": {},
     "output_type": "display_data"
    }
   ],
   "source": [
    "snack_df_2400 = filter_calories_2400(snack_df)\n",
    "plot_distribution(snack_df_2400, bins=24, title='Distribution of Calories for snack')"
   ]
  },
  {
   "cell_type": "markdown",
   "id": "043b5073-ac22-43c7-bf5e-4cee5e5bbdc1",
   "metadata": {},
   "source": [
    "So lunch/dinner is more so normally distributed. Breakfast is skewed, and the rest are kind of all over the place but with a somewhat cyclical pattern. Let's combine them into an other category now since they are all few in count anyway."
   ]
  },
  {
   "cell_type": "code",
   "execution_count": 245,
   "id": "d7d16b64-4593-49e1-83fb-6f5a77ba8c70",
   "metadata": {},
   "outputs": [
    {
     "data": {
      "text/plain": [
       "Counter({'lunch/dinner': 7365,\n",
       "         'breakfast': 699,\n",
       "         'snack': 327,\n",
       "         'brunch': 115,\n",
       "         'teatime': 94})"
      ]
     },
     "execution_count": 245,
     "metadata": {},
     "output_type": "execute_result"
    }
   ],
   "source": [
    "Counter(get_values(binned_calories_df, 'mealType'))"
   ]
  },
  {
   "cell_type": "code",
   "execution_count": 246,
   "id": "7a73e9c6-8c2e-41a8-bf11-861e58f2ec7b",
   "metadata": {},
   "outputs": [],
   "source": [
    "#for multilabeled rows we need a priority list to select which one we want to keep so it has just one main label\n",
    "meal_type_priority_list = ['breakfast', 'lunch/dinner', 'brunch', 'snack', 'teatime']\n",
    "new_meal_type_df = []\n",
    "for meal_type_lst in mealType_df:\n",
    "    if len(meal_type_lst) > 1:\n",
    "        for meal_type in meal_type_priority_list:\n",
    "            if meal_type in meal_type_lst:\n",
    "                new_meal_type_df.append(meal_type)\n",
    "                break\n",
    "    else:\n",
    "        new_meal_type_df.append(meal_type_lst[0])\n",
    "\n",
    "\n",
    "# Define a function to replace 'brunch', 'teatime' into snack also\n",
    "def replace_values(value):\n",
    "    if value in ['brunch', 'teatime']:\n",
    "        return 'snack'\n",
    "    else:\n",
    "        return value\n",
    "\n",
    "new_meal_type_df = [replace_values(meal_type) for meal_type in new_meal_type_df]"
   ]
  },
  {
   "cell_type": "code",
   "execution_count": 247,
   "id": "6b1a66c1-ae19-42a7-9df8-c7aa143cee31",
   "metadata": {},
   "outputs": [],
   "source": [
    "new_meal_type_df = pd.DataFrame(new_meal_type_df)\n",
    "new_meal_type_df.rename(columns={0: 'mealType'}, inplace=True)"
   ]
  },
  {
   "cell_type": "code",
   "execution_count": 248,
   "id": "780b50ce-8c23-4b06-b70b-2060080e33ba",
   "metadata": {},
   "outputs": [
    {
     "data": {
      "text/plain": [
       "Counter({'lunch/dinner': 7354, 'breakfast': 699, 'snack': 520})"
      ]
     },
     "execution_count": 248,
     "metadata": {},
     "output_type": "execute_result"
    }
   ],
   "source": [
    "Counter(new_meal_type_df['mealType'])"
   ]
  },
  {
   "cell_type": "code",
   "execution_count": 249,
   "id": "eda88c4e-34b9-44a2-94f6-fc25d459190d",
   "metadata": {},
   "outputs": [
    {
     "data": {
      "text/html": [
       "<div>\n",
       "<style scoped>\n",
       "    .dataframe tbody tr th:only-of-type {\n",
       "        vertical-align: middle;\n",
       "    }\n",
       "\n",
       "    .dataframe tbody tr th {\n",
       "        vertical-align: top;\n",
       "    }\n",
       "\n",
       "    .dataframe thead th {\n",
       "        text-align: right;\n",
       "    }\n",
       "</style>\n",
       "<table border=\"1\" class=\"dataframe\">\n",
       "  <thead>\n",
       "    <tr style=\"text-align: right;\">\n",
       "      <th></th>\n",
       "      <th>mealType</th>\n",
       "    </tr>\n",
       "  </thead>\n",
       "  <tbody>\n",
       "    <tr>\n",
       "      <th>0</th>\n",
       "      <td>lunch/dinner</td>\n",
       "    </tr>\n",
       "    <tr>\n",
       "      <th>1</th>\n",
       "      <td>lunch/dinner</td>\n",
       "    </tr>\n",
       "    <tr>\n",
       "      <th>2</th>\n",
       "      <td>lunch/dinner</td>\n",
       "    </tr>\n",
       "    <tr>\n",
       "      <th>3</th>\n",
       "      <td>lunch/dinner</td>\n",
       "    </tr>\n",
       "    <tr>\n",
       "      <th>4</th>\n",
       "      <td>lunch/dinner</td>\n",
       "    </tr>\n",
       "    <tr>\n",
       "      <th>...</th>\n",
       "      <td>...</td>\n",
       "    </tr>\n",
       "    <tr>\n",
       "      <th>8568</th>\n",
       "      <td>lunch/dinner</td>\n",
       "    </tr>\n",
       "    <tr>\n",
       "      <th>8569</th>\n",
       "      <td>lunch/dinner</td>\n",
       "    </tr>\n",
       "    <tr>\n",
       "      <th>8570</th>\n",
       "      <td>lunch/dinner</td>\n",
       "    </tr>\n",
       "    <tr>\n",
       "      <th>8571</th>\n",
       "      <td>lunch/dinner</td>\n",
       "    </tr>\n",
       "    <tr>\n",
       "      <th>8572</th>\n",
       "      <td>lunch/dinner</td>\n",
       "    </tr>\n",
       "  </tbody>\n",
       "</table>\n",
       "<p>8573 rows × 1 columns</p>\n",
       "</div>"
      ],
      "text/plain": [
       "          mealType\n",
       "0     lunch/dinner\n",
       "1     lunch/dinner\n",
       "2     lunch/dinner\n",
       "3     lunch/dinner\n",
       "4     lunch/dinner\n",
       "...            ...\n",
       "8568  lunch/dinner\n",
       "8569  lunch/dinner\n",
       "8570  lunch/dinner\n",
       "8571  lunch/dinner\n",
       "8572  lunch/dinner\n",
       "\n",
       "[8573 rows x 1 columns]"
      ]
     },
     "execution_count": 249,
     "metadata": {},
     "output_type": "execute_result"
    }
   ],
   "source": [
    "new_meal_type_df"
   ]
  },
  {
   "cell_type": "code",
   "execution_count": 250,
   "id": "75176f7f-94f9-4ffd-a01d-a871ae047888",
   "metadata": {},
   "outputs": [],
   "source": [
    "binned_calories_df = pd.concat([binned_calories_df, new_meal_type_df], axis = 1)"
   ]
  },
  {
   "cell_type": "code",
   "execution_count": null,
   "id": "d607e8fc-7475-4113-933d-23c4350708f4",
   "metadata": {},
   "outputs": [],
   "source": []
  }
 ],
 "metadata": {
  "kernelspec": {
   "display_name": "Python 3 (ipykernel)",
   "language": "python",
   "name": "python3"
  },
  "language_info": {
   "codemirror_mode": {
    "name": "ipython",
    "version": 3
   },
   "file_extension": ".py",
   "mimetype": "text/x-python",
   "name": "python",
   "nbconvert_exporter": "python",
   "pygments_lexer": "ipython3",
   "version": "3.11.7"
  }
 },
 "nbformat": 4,
 "nbformat_minor": 5
}
